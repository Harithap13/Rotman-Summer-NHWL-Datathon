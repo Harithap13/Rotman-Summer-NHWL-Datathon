{
 "cells": [
  {
   "cell_type": "markdown",
   "metadata": {},
   "source": [
    "## MMA Summer Datathon - Faceoff Specialist & Takeaway Specialist\n",
    " ___Haritha Poornachandran___\n",
    "\n",
    "### Load the CSV file"
   ]
  },
  {
   "cell_type": "code",
   "execution_count": 2,
   "metadata": {},
   "outputs": [],
   "source": [
    "import pandas as pd\n",
    "\n",
    "hockey_data = pd.read_csv('Rotman MMA Summer Datathon NWHL.csv')\n",
    "players=hockey_data.Player.unique() #----------------------------->List of unique players in the dataset"
   ]
  },
  {
   "cell_type": "markdown",
   "metadata": {},
   "source": [
    "### A. Final Faceoff Specialist Metrics\n",
    "\n",
    "#### 1. Faceoff Win Rate - Overall _(All Zones and Time Considered)_\n",
    "#### 2. Under 1 Min on Clock Faceoff Win Rate - _(Time left on clock is under 60 seconds)_\n",
    "#### 3. Offensive and Defensive Zone Faceoff Win Rate -  _(Only 4 faceoff locations in the offensive and defensive zones)_\n",
    "_Finally, Weighted average of Win rates are considered with more value given to wins in Offensive/Defensive zones as well as wins with less than 60 seconds on the clock. Number of faceoffs player has been a part of is also considered to account for experience._"
   ]
  },
  {
   "cell_type": "code",
   "execution_count": 3,
   "metadata": {},
   "outputs": [
    {
     "name": "stdout",
     "output_type": "stream",
     "text": [
      "Done!!!\n"
     ]
    },
    {
     "data": {
      "text/html": [
       "<div>\n",
       "<style scoped>\n",
       "    .dataframe tbody tr th:only-of-type {\n",
       "        vertical-align: middle;\n",
       "    }\n",
       "\n",
       "    .dataframe tbody tr th {\n",
       "        vertical-align: top;\n",
       "    }\n",
       "\n",
       "    .dataframe thead th {\n",
       "        text-align: right;\n",
       "    }\n",
       "</style>\n",
       "<table border=\"1\" class=\"dataframe\">\n",
       "  <thead>\n",
       "    <tr style=\"text-align: right;\">\n",
       "      <th></th>\n",
       "      <th>Name</th>\n",
       "      <th>Team</th>\n",
       "      <th>TotalFaceoff</th>\n",
       "      <th>FaceoffWin</th>\n",
       "      <th>FaceoffLoss</th>\n",
       "      <th>FaceoffWinRate</th>\n",
       "      <th>Under_1_FaceoffWin</th>\n",
       "      <th>Under_1_FaceoffLoss</th>\n",
       "      <th>Under_1_FaceoffWinrate</th>\n",
       "      <th>OffensiveWin</th>\n",
       "      <th>OffensiveLoss</th>\n",
       "      <th>OffensiveWinRate</th>\n",
       "      <th>DefensiveWin</th>\n",
       "      <th>DefensiveLoss</th>\n",
       "      <th>DefensiveWinRate</th>\n",
       "      <th>Offn_Defn_WinRate</th>\n",
       "      <th>Weighted Score</th>\n",
       "    </tr>\n",
       "  </thead>\n",
       "  <tbody>\n",
       "    <tr>\n",
       "      <th>0</th>\n",
       "      <td>Jillian Dempsey</td>\n",
       "      <td>Boston Pride</td>\n",
       "      <td>97</td>\n",
       "      <td>70</td>\n",
       "      <td>27</td>\n",
       "      <td>0.721649</td>\n",
       "      <td>2</td>\n",
       "      <td>1</td>\n",
       "      <td>0.666667</td>\n",
       "      <td>38</td>\n",
       "      <td>9</td>\n",
       "      <td>0.808511</td>\n",
       "      <td>12</td>\n",
       "      <td>10</td>\n",
       "      <td>0.545455</td>\n",
       "      <td>0.724638</td>\n",
       "      <td>0.894852</td>\n",
       "    </tr>\n",
       "    <tr>\n",
       "      <th>1</th>\n",
       "      <td>McKenna Brand</td>\n",
       "      <td>Boston Pride</td>\n",
       "      <td>12</td>\n",
       "      <td>6</td>\n",
       "      <td>6</td>\n",
       "      <td>0.500000</td>\n",
       "      <td>0</td>\n",
       "      <td>1</td>\n",
       "      <td>0.000000</td>\n",
       "      <td>1</td>\n",
       "      <td>2</td>\n",
       "      <td>0.333333</td>\n",
       "      <td>2</td>\n",
       "      <td>2</td>\n",
       "      <td>0.500000</td>\n",
       "      <td>0.428571</td>\n",
       "      <td>0.295429</td>\n",
       "    </tr>\n",
       "    <tr>\n",
       "      <th>2</th>\n",
       "      <td>Tereza Vanisova</td>\n",
       "      <td>Boston Pride</td>\n",
       "      <td>77</td>\n",
       "      <td>51</td>\n",
       "      <td>26</td>\n",
       "      <td>0.662338</td>\n",
       "      <td>4</td>\n",
       "      <td>0</td>\n",
       "      <td>1.000000</td>\n",
       "      <td>26</td>\n",
       "      <td>17</td>\n",
       "      <td>0.604651</td>\n",
       "      <td>13</td>\n",
       "      <td>4</td>\n",
       "      <td>0.764706</td>\n",
       "      <td>0.650000</td>\n",
       "      <td>0.946468</td>\n",
       "    </tr>\n",
       "    <tr>\n",
       "      <th>3</th>\n",
       "      <td>Samantha Davis</td>\n",
       "      <td>Boston Pride</td>\n",
       "      <td>8</td>\n",
       "      <td>5</td>\n",
       "      <td>3</td>\n",
       "      <td>0.625000</td>\n",
       "      <td>0</td>\n",
       "      <td>0</td>\n",
       "      <td>0.000000</td>\n",
       "      <td>2</td>\n",
       "      <td>2</td>\n",
       "      <td>0.500000</td>\n",
       "      <td>1</td>\n",
       "      <td>1</td>\n",
       "      <td>0.500000</td>\n",
       "      <td>0.500000</td>\n",
       "      <td>0.341000</td>\n",
       "    </tr>\n",
       "    <tr>\n",
       "      <th>4</th>\n",
       "      <td>Stephanie Anderson</td>\n",
       "      <td>Minnesota Whitecaps</td>\n",
       "      <td>90</td>\n",
       "      <td>38</td>\n",
       "      <td>52</td>\n",
       "      <td>0.422222</td>\n",
       "      <td>2</td>\n",
       "      <td>5</td>\n",
       "      <td>0.285714</td>\n",
       "      <td>14</td>\n",
       "      <td>17</td>\n",
       "      <td>0.451613</td>\n",
       "      <td>11</td>\n",
       "      <td>20</td>\n",
       "      <td>0.354839</td>\n",
       "      <td>0.403226</td>\n",
       "      <td>0.540020</td>\n",
       "    </tr>\n",
       "    <tr>\n",
       "      <th>5</th>\n",
       "      <td>Meghan Lorence</td>\n",
       "      <td>Minnesota Whitecaps</td>\n",
       "      <td>1</td>\n",
       "      <td>1</td>\n",
       "      <td>0</td>\n",
       "      <td>1.000000</td>\n",
       "      <td>0</td>\n",
       "      <td>0</td>\n",
       "      <td>0.000000</td>\n",
       "      <td>1</td>\n",
       "      <td>0</td>\n",
       "      <td>1.000000</td>\n",
       "      <td>0</td>\n",
       "      <td>0</td>\n",
       "      <td>0.000000</td>\n",
       "      <td>1.000000</td>\n",
       "      <td>0.602000</td>\n",
       "    </tr>\n",
       "    <tr>\n",
       "      <th>6</th>\n",
       "      <td>Taylor Wenczkowski</td>\n",
       "      <td>Boston Pride</td>\n",
       "      <td>5</td>\n",
       "      <td>4</td>\n",
       "      <td>1</td>\n",
       "      <td>0.800000</td>\n",
       "      <td>1</td>\n",
       "      <td>0</td>\n",
       "      <td>1.000000</td>\n",
       "      <td>1</td>\n",
       "      <td>1</td>\n",
       "      <td>0.500000</td>\n",
       "      <td>1</td>\n",
       "      <td>0</td>\n",
       "      <td>1.000000</td>\n",
       "      <td>0.666667</td>\n",
       "      <td>0.836667</td>\n",
       "    </tr>\n",
       "    <tr>\n",
       "      <th>7</th>\n",
       "      <td>Allie Thunstrom</td>\n",
       "      <td>Minnesota Whitecaps</td>\n",
       "      <td>10</td>\n",
       "      <td>1</td>\n",
       "      <td>9</td>\n",
       "      <td>0.100000</td>\n",
       "      <td>0</td>\n",
       "      <td>2</td>\n",
       "      <td>0.000000</td>\n",
       "      <td>0</td>\n",
       "      <td>3</td>\n",
       "      <td>0.000000</td>\n",
       "      <td>1</td>\n",
       "      <td>4</td>\n",
       "      <td>0.200000</td>\n",
       "      <td>0.125000</td>\n",
       "      <td>0.090000</td>\n",
       "    </tr>\n",
       "    <tr>\n",
       "      <th>8</th>\n",
       "      <td>Nina Rodgers</td>\n",
       "      <td>Minnesota Whitecaps</td>\n",
       "      <td>6</td>\n",
       "      <td>1</td>\n",
       "      <td>5</td>\n",
       "      <td>0.166667</td>\n",
       "      <td>0</td>\n",
       "      <td>0</td>\n",
       "      <td>0.000000</td>\n",
       "      <td>0</td>\n",
       "      <td>0</td>\n",
       "      <td>0.000000</td>\n",
       "      <td>1</td>\n",
       "      <td>4</td>\n",
       "      <td>0.200000</td>\n",
       "      <td>0.200000</td>\n",
       "      <td>0.125333</td>\n",
       "    </tr>\n",
       "    <tr>\n",
       "      <th>9</th>\n",
       "      <td>Christina Putigna</td>\n",
       "      <td>Boston Pride</td>\n",
       "      <td>5</td>\n",
       "      <td>3</td>\n",
       "      <td>2</td>\n",
       "      <td>0.600000</td>\n",
       "      <td>1</td>\n",
       "      <td>0</td>\n",
       "      <td>1.000000</td>\n",
       "      <td>2</td>\n",
       "      <td>0</td>\n",
       "      <td>1.000000</td>\n",
       "      <td>0</td>\n",
       "      <td>0</td>\n",
       "      <td>0.000000</td>\n",
       "      <td>1.000000</td>\n",
       "      <td>0.930000</td>\n",
       "    </tr>\n",
       "  </tbody>\n",
       "</table>\n",
       "</div>"
      ],
      "text/plain": [
       "                 Name                 Team  TotalFaceoff  FaceoffWin  \\\n",
       "0     Jillian Dempsey         Boston Pride            97          70   \n",
       "1       McKenna Brand         Boston Pride            12           6   \n",
       "2     Tereza Vanisova         Boston Pride            77          51   \n",
       "3      Samantha Davis         Boston Pride             8           5   \n",
       "4  Stephanie Anderson  Minnesota Whitecaps            90          38   \n",
       "5      Meghan Lorence  Minnesota Whitecaps             1           1   \n",
       "6  Taylor Wenczkowski         Boston Pride             5           4   \n",
       "7     Allie Thunstrom  Minnesota Whitecaps            10           1   \n",
       "8        Nina Rodgers  Minnesota Whitecaps             6           1   \n",
       "9   Christina Putigna         Boston Pride             5           3   \n",
       "\n",
       "   FaceoffLoss  FaceoffWinRate  Under_1_FaceoffWin  Under_1_FaceoffLoss  \\\n",
       "0           27        0.721649                   2                    1   \n",
       "1            6        0.500000                   0                    1   \n",
       "2           26        0.662338                   4                    0   \n",
       "3            3        0.625000                   0                    0   \n",
       "4           52        0.422222                   2                    5   \n",
       "5            0        1.000000                   0                    0   \n",
       "6            1        0.800000                   1                    0   \n",
       "7            9        0.100000                   0                    2   \n",
       "8            5        0.166667                   0                    0   \n",
       "9            2        0.600000                   1                    0   \n",
       "\n",
       "   Under_1_FaceoffWinrate  OffensiveWin  OffensiveLoss  OffensiveWinRate  \\\n",
       "0                0.666667            38              9          0.808511   \n",
       "1                0.000000             1              2          0.333333   \n",
       "2                1.000000            26             17          0.604651   \n",
       "3                0.000000             2              2          0.500000   \n",
       "4                0.285714            14             17          0.451613   \n",
       "5                0.000000             1              0          1.000000   \n",
       "6                1.000000             1              1          0.500000   \n",
       "7                0.000000             0              3          0.000000   \n",
       "8                0.000000             0              0          0.000000   \n",
       "9                1.000000             2              0          1.000000   \n",
       "\n",
       "   DefensiveWin  DefensiveLoss  DefensiveWinRate  Offn_Defn_WinRate  \\\n",
       "0            12             10          0.545455           0.724638   \n",
       "1             2              2          0.500000           0.428571   \n",
       "2            13              4          0.764706           0.650000   \n",
       "3             1              1          0.500000           0.500000   \n",
       "4            11             20          0.354839           0.403226   \n",
       "5             0              0          0.000000           1.000000   \n",
       "6             1              0          1.000000           0.666667   \n",
       "7             1              4          0.200000           0.125000   \n",
       "8             1              4          0.200000           0.200000   \n",
       "9             0              0          0.000000           1.000000   \n",
       "\n",
       "   Weighted Score  \n",
       "0        0.894852  \n",
       "1        0.295429  \n",
       "2        0.946468  \n",
       "3        0.341000  \n",
       "4        0.540020  \n",
       "5        0.602000  \n",
       "6        0.836667  \n",
       "7        0.090000  \n",
       "8        0.125333  \n",
       "9        0.930000  "
      ]
     },
     "execution_count": 3,
     "metadata": {},
     "output_type": "execute_result"
    }
   ],
   "source": [
    "fo=[]\n",
    "for player in players:\n",
    "    fow1=0 #Overall Faceoff Wins----->overall faceoff wins and loses\n",
    "    fol1=0 #Overall Faceoff Loss\n",
    "    fop1=0 #Overall Faceoff Win Rate\n",
    "     \n",
    "    fow2=0 #Under 1min Wins----->less than 60 sec faceoff wins and loses\n",
    "    fol2=0 #Under 1min Loss\n",
    "    fop2=0 #Under 1min Win Rate\n",
    "    \n",
    "    team='' # Player's Team\n",
    "    fot=0   # Total faceoffs player participated in\n",
    "    \n",
    "    x=0 # X coord\n",
    "    y=0 # Y coord\n",
    "    \n",
    "    defn_w=0 #Defensive Wins\n",
    "    offn_w=0 #Offensive Wins\n",
    "    defn_l=0 #Defensive loss\n",
    "    offn_l=0 #Offensive Loss\n",
    "    defn_p=0 #Defensive Win Rate\n",
    "    offn_p=0 #Offensive Win Rate\n",
    "    \n",
    "    for index,row in hockey_data.iterrows():\n",
    "        if row['Player']==player:\n",
    "            team=row['Team']\n",
    "        if row['Event']=='Faceoff Win':\n",
    "            if row['Player']==player:\n",
    "                fow1=fow1+1\n",
    "                if (row['Clock'][0]=='0'):\n",
    "                    fow2=fow2+1\n",
    "            if row['Player 2']==player:\n",
    "                fol1=fol1+1\n",
    "                if (row['Clock'][0]=='0'):\n",
    "                    fol2=fol2+1\n",
    "                    \n",
    "            x=row['X Coordinate']\n",
    "            if row['Player']==player:\n",
    "                if x==169:\n",
    "                    offn_w=offn_w+1\n",
    "                if x==31:\n",
    "                    defn_w=defn_w+1\n",
    "            if row['Player 2']==player:\n",
    "                if x==169:\n",
    "                    defn_l=defn_l+1\n",
    "                if x==31:\n",
    "                    offn_l=offn_l+1\n",
    "                    \n",
    "    if (fol1+fow1)!=0:\n",
    "        fop1=fow1/(fow1+fol1)\n",
    "        fot=fow1+fol1\n",
    "        if (fol2+fow2)!=0:\n",
    "            fop2=fow2/(fow2+fol2)\n",
    "        if (offn_w+offn_l)!=0:\n",
    "            offn_p=offn_w/(offn_w+offn_l)\n",
    "        if (defn_w+defn_l)!=0:\n",
    "            defn_p=defn_w/(defn_w+defn_l)\n",
    "            \n",
    "        fo.append([player,team,fot,fow1,fol1,fop1,fow2,fol2,fop2,offn_w,offn_l,offn_p,defn_w,defn_l,defn_p])\n",
    "        \n",
    "fo_df=pd.DataFrame(fo,columns=['Name','Team','TotalFaceoff','FaceoffWin','FaceoffLoss','FaceoffWinRate','Under_1_FaceoffWin','Under_1_FaceoffLoss','Under_1_FaceoffWinrate','OffensiveWin','OffensiveLoss','OffensiveWinRate','DefensiveWin','DefensiveLoss','DefensiveWinRate'])\n",
    "\n",
    "fo_df['Offn_Defn_WinRate']=(fo_df['OffensiveWin']+fo_df['DefensiveWin'])/(fo_df['OffensiveWin']+fo_df['DefensiveWin']+fo_df['OffensiveLoss']+fo_df['DefensiveLoss'])\n",
    "fo_df['Weighted Score']=(fo_df['FaceoffWinRate']+(2*fo_df['Under_1_FaceoffWinrate'])+(2*fo_df['Offn_Defn_WinRate'])+(0.01*fo_df['TotalFaceoff']))/5\n",
    "print(\"Done!!!\") \n",
    "fo_df.head(10)"
   ]
  },
  {
   "cell_type": "code",
   "execution_count": 6,
   "metadata": {},
   "outputs": [
    {
     "data": {
      "application/vnd.plotly.v1+json": {
       "config": {
        "plotlyServerURL": "https://plot.ly"
       },
       "data": [
        {
         "alignmentgroup": "True",
         "hovertemplate": "Name=%{x}<br>Weighted Score=%{y}<extra></extra>",
         "legendgroup": "",
         "marker": {
          "color": "#636efa"
         },
         "name": "",
         "offsetgroup": "",
         "orientation": "v",
         "showlegend": false,
         "textposition": "auto",
         "type": "bar",
         "x": [
          "Jillian Dempsey",
          "McKenna Brand",
          "Tereza Vanisova",
          "Samantha Davis",
          "Stephanie Anderson",
          "Meghan Lorence",
          "Taylor Wenczkowski",
          "Allie Thunstrom",
          "Nina Rodgers",
          "Christina Putigna",
          "Haylea Schmid",
          "Lexie Laing",
          "Mary Parker",
          "Tori Sullivan",
          "Carlee Turner",
          "Meaghan Rickard",
          "Meghara McManus",
          "Haley Mack",
          "Jonna Curtis",
          "Audra Richards",
          "Meaghan Pezon",
          "Sara Bustad",
          "Lynn Astrup",
          "Brooke White",
          "Kayla Friesen",
          "Jordan Juron",
          "Janine Weber",
          "Emma Vlasic",
          "Katelynn Russ",
          "Autumn MacDougall",
          "Brooke Stacey",
          "Kayla Meneghin",
          "Hunter Accursi",
          "Sarah Schwenzfeier",
          "Kaycie Anderson",
          "Maddie Bishop",
          "Amanda Conway",
          "Iveta Klimasova",
          "Mackenzie Lancaster",
          "Neve Van Pelt",
          "Kristin Lewicki",
          "Brittany Colton",
          "Cassidy MacPherson",
          "Shiann Darkangelo",
          "Madison Packer",
          "Emily Janiga",
          "Kelly Babstock",
          "Jayne Lewis",
          "Breanne Wilson-Bennett",
          "Kendall Cornine",
          "Paige Voight",
          "Natalie Marcuzzi",
          "Taylor Woods",
          "Mallory Rushton",
          "Theresa Knutson",
          "Taytum Clairmont",
          "Julie Allen",
          "Rebecca Russo",
          "Emily Fluke",
          "Mikyla Grant-Mentis",
          "Sarah-Eve Coutu Godbout",
          "Amy Curlew",
          "Brooke Avery",
          "Mackenzie MacNeil",
          "Brooke Boquist",
          "Cailey Hutchison",
          "Taylor Wasylk",
          "Rachael Ade",
          "Sarah Hughson"
         ],
         "xaxis": "x",
         "y": [
          0.8948516360376513,
          0.2954285714285715,
          0.9464675324675327,
          0.341,
          0.5400204813108039,
          0.602,
          0.8366666666666666,
          0.09,
          0.12533333333333335,
          0.9299999999999999,
          0.2910931677018634,
          0.764376115305422,
          0.002,
          0.602,
          0.8445266457680252,
          0.006,
          0.4044761904761904,
          0.78,
          0.6624164222873901,
          0.806,
          0.22333333333333333,
          0.602,
          0.07866666666666666,
          null,
          0.606248039914469,
          0.634405388232304,
          0.7822857142857143,
          0.7845498814910579,
          0.731090909090909,
          null,
          0.26242857142857146,
          0.23276190476190478,
          0.2041904761904762,
          0.4223888888888889,
          0.10400000000000001,
          0.002,
          0.002,
          0.20600000000000002,
          0.2420248447204969,
          0.3528220415537489,
          0.20600000000000002,
          0.10766666666666666,
          0.7132081736909324,
          0.935055462184874,
          0.09814285714285714,
          0.3027179487179487,
          0.5382251082251083,
          0.002,
          0.631667430608607,
          0.6704149184149184,
          0.602,
          0.34885714285714287,
          0.40599999999999997,
          0.10400000000000001,
          0.40599999999999997,
          0.5793082706766917,
          0.22999999999999998,
          0.308,
          0.9282857142857143,
          0.4185714285714286,
          0.604,
          0.3282857142857143,
          0.27266666666666667,
          0.20600000000000002,
          0.25000000000000006,
          0.6256161919040479,
          0.19339194139194138,
          0.002,
          0.08466666666666667
         ],
         "yaxis": "y"
        }
       ],
       "layout": {
        "barmode": "relative",
        "legend": {
         "tracegroupgap": 0
        },
        "margin": {
         "t": 60
        },
        "template": {
         "data": {
          "bar": [
           {
            "error_x": {
             "color": "#2a3f5f"
            },
            "error_y": {
             "color": "#2a3f5f"
            },
            "marker": {
             "line": {
              "color": "#E5ECF6",
              "width": 0.5
             }
            },
            "type": "bar"
           }
          ],
          "barpolar": [
           {
            "marker": {
             "line": {
              "color": "#E5ECF6",
              "width": 0.5
             }
            },
            "type": "barpolar"
           }
          ],
          "carpet": [
           {
            "aaxis": {
             "endlinecolor": "#2a3f5f",
             "gridcolor": "white",
             "linecolor": "white",
             "minorgridcolor": "white",
             "startlinecolor": "#2a3f5f"
            },
            "baxis": {
             "endlinecolor": "#2a3f5f",
             "gridcolor": "white",
             "linecolor": "white",
             "minorgridcolor": "white",
             "startlinecolor": "#2a3f5f"
            },
            "type": "carpet"
           }
          ],
          "choropleth": [
           {
            "colorbar": {
             "outlinewidth": 0,
             "ticks": ""
            },
            "type": "choropleth"
           }
          ],
          "contour": [
           {
            "colorbar": {
             "outlinewidth": 0,
             "ticks": ""
            },
            "colorscale": [
             [
              0,
              "#0d0887"
             ],
             [
              0.1111111111111111,
              "#46039f"
             ],
             [
              0.2222222222222222,
              "#7201a8"
             ],
             [
              0.3333333333333333,
              "#9c179e"
             ],
             [
              0.4444444444444444,
              "#bd3786"
             ],
             [
              0.5555555555555556,
              "#d8576b"
             ],
             [
              0.6666666666666666,
              "#ed7953"
             ],
             [
              0.7777777777777778,
              "#fb9f3a"
             ],
             [
              0.8888888888888888,
              "#fdca26"
             ],
             [
              1,
              "#f0f921"
             ]
            ],
            "type": "contour"
           }
          ],
          "contourcarpet": [
           {
            "colorbar": {
             "outlinewidth": 0,
             "ticks": ""
            },
            "type": "contourcarpet"
           }
          ],
          "heatmap": [
           {
            "colorbar": {
             "outlinewidth": 0,
             "ticks": ""
            },
            "colorscale": [
             [
              0,
              "#0d0887"
             ],
             [
              0.1111111111111111,
              "#46039f"
             ],
             [
              0.2222222222222222,
              "#7201a8"
             ],
             [
              0.3333333333333333,
              "#9c179e"
             ],
             [
              0.4444444444444444,
              "#bd3786"
             ],
             [
              0.5555555555555556,
              "#d8576b"
             ],
             [
              0.6666666666666666,
              "#ed7953"
             ],
             [
              0.7777777777777778,
              "#fb9f3a"
             ],
             [
              0.8888888888888888,
              "#fdca26"
             ],
             [
              1,
              "#f0f921"
             ]
            ],
            "type": "heatmap"
           }
          ],
          "heatmapgl": [
           {
            "colorbar": {
             "outlinewidth": 0,
             "ticks": ""
            },
            "colorscale": [
             [
              0,
              "#0d0887"
             ],
             [
              0.1111111111111111,
              "#46039f"
             ],
             [
              0.2222222222222222,
              "#7201a8"
             ],
             [
              0.3333333333333333,
              "#9c179e"
             ],
             [
              0.4444444444444444,
              "#bd3786"
             ],
             [
              0.5555555555555556,
              "#d8576b"
             ],
             [
              0.6666666666666666,
              "#ed7953"
             ],
             [
              0.7777777777777778,
              "#fb9f3a"
             ],
             [
              0.8888888888888888,
              "#fdca26"
             ],
             [
              1,
              "#f0f921"
             ]
            ],
            "type": "heatmapgl"
           }
          ],
          "histogram": [
           {
            "marker": {
             "colorbar": {
              "outlinewidth": 0,
              "ticks": ""
             }
            },
            "type": "histogram"
           }
          ],
          "histogram2d": [
           {
            "colorbar": {
             "outlinewidth": 0,
             "ticks": ""
            },
            "colorscale": [
             [
              0,
              "#0d0887"
             ],
             [
              0.1111111111111111,
              "#46039f"
             ],
             [
              0.2222222222222222,
              "#7201a8"
             ],
             [
              0.3333333333333333,
              "#9c179e"
             ],
             [
              0.4444444444444444,
              "#bd3786"
             ],
             [
              0.5555555555555556,
              "#d8576b"
             ],
             [
              0.6666666666666666,
              "#ed7953"
             ],
             [
              0.7777777777777778,
              "#fb9f3a"
             ],
             [
              0.8888888888888888,
              "#fdca26"
             ],
             [
              1,
              "#f0f921"
             ]
            ],
            "type": "histogram2d"
           }
          ],
          "histogram2dcontour": [
           {
            "colorbar": {
             "outlinewidth": 0,
             "ticks": ""
            },
            "colorscale": [
             [
              0,
              "#0d0887"
             ],
             [
              0.1111111111111111,
              "#46039f"
             ],
             [
              0.2222222222222222,
              "#7201a8"
             ],
             [
              0.3333333333333333,
              "#9c179e"
             ],
             [
              0.4444444444444444,
              "#bd3786"
             ],
             [
              0.5555555555555556,
              "#d8576b"
             ],
             [
              0.6666666666666666,
              "#ed7953"
             ],
             [
              0.7777777777777778,
              "#fb9f3a"
             ],
             [
              0.8888888888888888,
              "#fdca26"
             ],
             [
              1,
              "#f0f921"
             ]
            ],
            "type": "histogram2dcontour"
           }
          ],
          "mesh3d": [
           {
            "colorbar": {
             "outlinewidth": 0,
             "ticks": ""
            },
            "type": "mesh3d"
           }
          ],
          "parcoords": [
           {
            "line": {
             "colorbar": {
              "outlinewidth": 0,
              "ticks": ""
             }
            },
            "type": "parcoords"
           }
          ],
          "pie": [
           {
            "automargin": true,
            "type": "pie"
           }
          ],
          "scatter": [
           {
            "marker": {
             "colorbar": {
              "outlinewidth": 0,
              "ticks": ""
             }
            },
            "type": "scatter"
           }
          ],
          "scatter3d": [
           {
            "line": {
             "colorbar": {
              "outlinewidth": 0,
              "ticks": ""
             }
            },
            "marker": {
             "colorbar": {
              "outlinewidth": 0,
              "ticks": ""
             }
            },
            "type": "scatter3d"
           }
          ],
          "scattercarpet": [
           {
            "marker": {
             "colorbar": {
              "outlinewidth": 0,
              "ticks": ""
             }
            },
            "type": "scattercarpet"
           }
          ],
          "scattergeo": [
           {
            "marker": {
             "colorbar": {
              "outlinewidth": 0,
              "ticks": ""
             }
            },
            "type": "scattergeo"
           }
          ],
          "scattergl": [
           {
            "marker": {
             "colorbar": {
              "outlinewidth": 0,
              "ticks": ""
             }
            },
            "type": "scattergl"
           }
          ],
          "scattermapbox": [
           {
            "marker": {
             "colorbar": {
              "outlinewidth": 0,
              "ticks": ""
             }
            },
            "type": "scattermapbox"
           }
          ],
          "scatterpolar": [
           {
            "marker": {
             "colorbar": {
              "outlinewidth": 0,
              "ticks": ""
             }
            },
            "type": "scatterpolar"
           }
          ],
          "scatterpolargl": [
           {
            "marker": {
             "colorbar": {
              "outlinewidth": 0,
              "ticks": ""
             }
            },
            "type": "scatterpolargl"
           }
          ],
          "scatterternary": [
           {
            "marker": {
             "colorbar": {
              "outlinewidth": 0,
              "ticks": ""
             }
            },
            "type": "scatterternary"
           }
          ],
          "surface": [
           {
            "colorbar": {
             "outlinewidth": 0,
             "ticks": ""
            },
            "colorscale": [
             [
              0,
              "#0d0887"
             ],
             [
              0.1111111111111111,
              "#46039f"
             ],
             [
              0.2222222222222222,
              "#7201a8"
             ],
             [
              0.3333333333333333,
              "#9c179e"
             ],
             [
              0.4444444444444444,
              "#bd3786"
             ],
             [
              0.5555555555555556,
              "#d8576b"
             ],
             [
              0.6666666666666666,
              "#ed7953"
             ],
             [
              0.7777777777777778,
              "#fb9f3a"
             ],
             [
              0.8888888888888888,
              "#fdca26"
             ],
             [
              1,
              "#f0f921"
             ]
            ],
            "type": "surface"
           }
          ],
          "table": [
           {
            "cells": {
             "fill": {
              "color": "#EBF0F8"
             },
             "line": {
              "color": "white"
             }
            },
            "header": {
             "fill": {
              "color": "#C8D4E3"
             },
             "line": {
              "color": "white"
             }
            },
            "type": "table"
           }
          ]
         },
         "layout": {
          "annotationdefaults": {
           "arrowcolor": "#2a3f5f",
           "arrowhead": 0,
           "arrowwidth": 1
          },
          "autotypenumbers": "strict",
          "coloraxis": {
           "colorbar": {
            "outlinewidth": 0,
            "ticks": ""
           }
          },
          "colorscale": {
           "diverging": [
            [
             0,
             "#8e0152"
            ],
            [
             0.1,
             "#c51b7d"
            ],
            [
             0.2,
             "#de77ae"
            ],
            [
             0.3,
             "#f1b6da"
            ],
            [
             0.4,
             "#fde0ef"
            ],
            [
             0.5,
             "#f7f7f7"
            ],
            [
             0.6,
             "#e6f5d0"
            ],
            [
             0.7,
             "#b8e186"
            ],
            [
             0.8,
             "#7fbc41"
            ],
            [
             0.9,
             "#4d9221"
            ],
            [
             1,
             "#276419"
            ]
           ],
           "sequential": [
            [
             0,
             "#0d0887"
            ],
            [
             0.1111111111111111,
             "#46039f"
            ],
            [
             0.2222222222222222,
             "#7201a8"
            ],
            [
             0.3333333333333333,
             "#9c179e"
            ],
            [
             0.4444444444444444,
             "#bd3786"
            ],
            [
             0.5555555555555556,
             "#d8576b"
            ],
            [
             0.6666666666666666,
             "#ed7953"
            ],
            [
             0.7777777777777778,
             "#fb9f3a"
            ],
            [
             0.8888888888888888,
             "#fdca26"
            ],
            [
             1,
             "#f0f921"
            ]
           ],
           "sequentialminus": [
            [
             0,
             "#0d0887"
            ],
            [
             0.1111111111111111,
             "#46039f"
            ],
            [
             0.2222222222222222,
             "#7201a8"
            ],
            [
             0.3333333333333333,
             "#9c179e"
            ],
            [
             0.4444444444444444,
             "#bd3786"
            ],
            [
             0.5555555555555556,
             "#d8576b"
            ],
            [
             0.6666666666666666,
             "#ed7953"
            ],
            [
             0.7777777777777778,
             "#fb9f3a"
            ],
            [
             0.8888888888888888,
             "#fdca26"
            ],
            [
             1,
             "#f0f921"
            ]
           ]
          },
          "colorway": [
           "#636efa",
           "#EF553B",
           "#00cc96",
           "#ab63fa",
           "#FFA15A",
           "#19d3f3",
           "#FF6692",
           "#B6E880",
           "#FF97FF",
           "#FECB52"
          ],
          "font": {
           "color": "#2a3f5f"
          },
          "geo": {
           "bgcolor": "white",
           "lakecolor": "white",
           "landcolor": "#E5ECF6",
           "showlakes": true,
           "showland": true,
           "subunitcolor": "white"
          },
          "hoverlabel": {
           "align": "left"
          },
          "hovermode": "closest",
          "mapbox": {
           "style": "light"
          },
          "paper_bgcolor": "white",
          "plot_bgcolor": "#E5ECF6",
          "polar": {
           "angularaxis": {
            "gridcolor": "white",
            "linecolor": "white",
            "ticks": ""
           },
           "bgcolor": "#E5ECF6",
           "radialaxis": {
            "gridcolor": "white",
            "linecolor": "white",
            "ticks": ""
           }
          },
          "scene": {
           "xaxis": {
            "backgroundcolor": "#E5ECF6",
            "gridcolor": "white",
            "gridwidth": 2,
            "linecolor": "white",
            "showbackground": true,
            "ticks": "",
            "zerolinecolor": "white"
           },
           "yaxis": {
            "backgroundcolor": "#E5ECF6",
            "gridcolor": "white",
            "gridwidth": 2,
            "linecolor": "white",
            "showbackground": true,
            "ticks": "",
            "zerolinecolor": "white"
           },
           "zaxis": {
            "backgroundcolor": "#E5ECF6",
            "gridcolor": "white",
            "gridwidth": 2,
            "linecolor": "white",
            "showbackground": true,
            "ticks": "",
            "zerolinecolor": "white"
           }
          },
          "shapedefaults": {
           "line": {
            "color": "#2a3f5f"
           }
          },
          "ternary": {
           "aaxis": {
            "gridcolor": "white",
            "linecolor": "white",
            "ticks": ""
           },
           "baxis": {
            "gridcolor": "white",
            "linecolor": "white",
            "ticks": ""
           },
           "bgcolor": "#E5ECF6",
           "caxis": {
            "gridcolor": "white",
            "linecolor": "white",
            "ticks": ""
           }
          },
          "title": {
           "x": 0.05
          },
          "xaxis": {
           "automargin": true,
           "gridcolor": "white",
           "linecolor": "white",
           "ticks": "",
           "title": {
            "standoff": 15
           },
           "zerolinecolor": "white",
           "zerolinewidth": 2
          },
          "yaxis": {
           "automargin": true,
           "gridcolor": "white",
           "linecolor": "white",
           "ticks": "",
           "title": {
            "standoff": 15
           },
           "zerolinecolor": "white",
           "zerolinewidth": 2
          }
         }
        },
        "xaxis": {
         "anchor": "y",
         "categoryorder": "total descending",
         "domain": [
          0,
          1
         ],
         "title": {
          "text": "Name"
         }
        },
        "yaxis": {
         "anchor": "x",
         "domain": [
          0,
          1
         ],
         "title": {
          "text": "Weighted Score"
         }
        }
       }
      },
      "text/html": [
       "<div>                            <div id=\"a33c241f-c377-44ae-bd13-c429bd1191d7\" class=\"plotly-graph-div\" style=\"height:525px; width:100%;\"></div>            <script type=\"text/javascript\">                require([\"plotly\"], function(Plotly) {                    window.PLOTLYENV=window.PLOTLYENV || {};                                    if (document.getElementById(\"a33c241f-c377-44ae-bd13-c429bd1191d7\")) {                    Plotly.newPlot(                        \"a33c241f-c377-44ae-bd13-c429bd1191d7\",                        [{\"alignmentgroup\": \"True\", \"hovertemplate\": \"Name=%{x}<br>Weighted Score=%{y}<extra></extra>\", \"legendgroup\": \"\", \"marker\": {\"color\": \"#636efa\"}, \"name\": \"\", \"offsetgroup\": \"\", \"orientation\": \"v\", \"showlegend\": false, \"textposition\": \"auto\", \"type\": \"bar\", \"x\": [\"Jillian Dempsey\", \"McKenna Brand\", \"Tereza Vanisova\", \"Samantha Davis\", \"Stephanie Anderson\", \"Meghan Lorence\", \"Taylor Wenczkowski\", \"Allie Thunstrom\", \"Nina Rodgers\", \"Christina Putigna\", \"Haylea Schmid\", \"Lexie Laing\", \"Mary Parker\", \"Tori Sullivan\", \"Carlee Turner\", \"Meaghan Rickard\", \"Meghara McManus\", \"Haley Mack\", \"Jonna Curtis\", \"Audra Richards\", \"Meaghan Pezon\", \"Sara Bustad\", \"Lynn Astrup\", \"Brooke White\", \"Kayla Friesen\", \"Jordan Juron\", \"Janine Weber\", \"Emma Vlasic\", \"Katelynn Russ\", \"Autumn MacDougall\", \"Brooke Stacey\", \"Kayla Meneghin\", \"Hunter Accursi\", \"Sarah Schwenzfeier\", \"Kaycie Anderson\", \"Maddie Bishop\", \"Amanda Conway\", \"Iveta Klimasova\", \"Mackenzie Lancaster\", \"Neve Van Pelt\", \"Kristin Lewicki\", \"Brittany Colton\", \"Cassidy MacPherson\", \"Shiann Darkangelo\", \"Madison Packer\", \"Emily Janiga\", \"Kelly Babstock\", \"Jayne Lewis\", \"Breanne Wilson-Bennett\", \"Kendall Cornine\", \"Paige Voight\", \"Natalie Marcuzzi\", \"Taylor Woods\", \"Mallory Rushton\", \"Theresa Knutson\", \"Taytum Clairmont\", \"Julie Allen\", \"Rebecca Russo\", \"Emily Fluke\", \"Mikyla Grant-Mentis\", \"Sarah-Eve Coutu Godbout\", \"Amy Curlew\", \"Brooke Avery\", \"Mackenzie MacNeil\", \"Brooke Boquist\", \"Cailey Hutchison\", \"Taylor Wasylk\", \"Rachael Ade\", \"Sarah Hughson\"], \"xaxis\": \"x\", \"y\": [0.8948516360376513, 0.2954285714285715, 0.9464675324675327, 0.341, 0.5400204813108039, 0.602, 0.8366666666666666, 0.09, 0.12533333333333335, 0.9299999999999999, 0.2910931677018634, 0.764376115305422, 0.002, 0.602, 0.8445266457680252, 0.006, 0.4044761904761904, 0.78, 0.6624164222873901, 0.806, 0.22333333333333333, 0.602, 0.07866666666666666, null, 0.606248039914469, 0.634405388232304, 0.7822857142857143, 0.7845498814910579, 0.731090909090909, null, 0.26242857142857146, 0.23276190476190478, 0.2041904761904762, 0.4223888888888889, 0.10400000000000001, 0.002, 0.002, 0.20600000000000002, 0.2420248447204969, 0.3528220415537489, 0.20600000000000002, 0.10766666666666666, 0.7132081736909324, 0.935055462184874, 0.09814285714285714, 0.3027179487179487, 0.5382251082251083, 0.002, 0.631667430608607, 0.6704149184149184, 0.602, 0.34885714285714287, 0.40599999999999997, 0.10400000000000001, 0.40599999999999997, 0.5793082706766917, 0.22999999999999998, 0.308, 0.9282857142857143, 0.4185714285714286, 0.604, 0.3282857142857143, 0.27266666666666667, 0.20600000000000002, 0.25000000000000006, 0.6256161919040479, 0.19339194139194138, 0.002, 0.08466666666666667], \"yaxis\": \"y\"}],                        {\"barmode\": \"relative\", \"legend\": {\"tracegroupgap\": 0}, \"margin\": {\"t\": 60}, \"template\": {\"data\": {\"bar\": [{\"error_x\": {\"color\": \"#2a3f5f\"}, \"error_y\": {\"color\": \"#2a3f5f\"}, \"marker\": {\"line\": {\"color\": \"#E5ECF6\", \"width\": 0.5}}, \"type\": \"bar\"}], \"barpolar\": [{\"marker\": {\"line\": {\"color\": \"#E5ECF6\", \"width\": 0.5}}, \"type\": \"barpolar\"}], \"carpet\": [{\"aaxis\": {\"endlinecolor\": \"#2a3f5f\", \"gridcolor\": \"white\", \"linecolor\": \"white\", \"minorgridcolor\": \"white\", \"startlinecolor\": \"#2a3f5f\"}, \"baxis\": {\"endlinecolor\": \"#2a3f5f\", \"gridcolor\": \"white\", \"linecolor\": \"white\", \"minorgridcolor\": \"white\", \"startlinecolor\": \"#2a3f5f\"}, \"type\": \"carpet\"}], \"choropleth\": [{\"colorbar\": {\"outlinewidth\": 0, \"ticks\": \"\"}, \"type\": \"choropleth\"}], \"contour\": [{\"colorbar\": {\"outlinewidth\": 0, \"ticks\": \"\"}, \"colorscale\": [[0.0, \"#0d0887\"], [0.1111111111111111, \"#46039f\"], [0.2222222222222222, \"#7201a8\"], [0.3333333333333333, \"#9c179e\"], [0.4444444444444444, \"#bd3786\"], [0.5555555555555556, \"#d8576b\"], [0.6666666666666666, \"#ed7953\"], [0.7777777777777778, \"#fb9f3a\"], [0.8888888888888888, \"#fdca26\"], [1.0, \"#f0f921\"]], \"type\": \"contour\"}], \"contourcarpet\": [{\"colorbar\": {\"outlinewidth\": 0, \"ticks\": \"\"}, \"type\": \"contourcarpet\"}], \"heatmap\": [{\"colorbar\": {\"outlinewidth\": 0, \"ticks\": \"\"}, \"colorscale\": [[0.0, \"#0d0887\"], [0.1111111111111111, \"#46039f\"], [0.2222222222222222, \"#7201a8\"], [0.3333333333333333, \"#9c179e\"], [0.4444444444444444, \"#bd3786\"], [0.5555555555555556, \"#d8576b\"], [0.6666666666666666, \"#ed7953\"], [0.7777777777777778, \"#fb9f3a\"], [0.8888888888888888, \"#fdca26\"], [1.0, \"#f0f921\"]], \"type\": \"heatmap\"}], \"heatmapgl\": [{\"colorbar\": {\"outlinewidth\": 0, \"ticks\": \"\"}, \"colorscale\": [[0.0, \"#0d0887\"], [0.1111111111111111, \"#46039f\"], [0.2222222222222222, \"#7201a8\"], [0.3333333333333333, \"#9c179e\"], [0.4444444444444444, \"#bd3786\"], [0.5555555555555556, \"#d8576b\"], [0.6666666666666666, \"#ed7953\"], [0.7777777777777778, \"#fb9f3a\"], [0.8888888888888888, \"#fdca26\"], [1.0, \"#f0f921\"]], \"type\": \"heatmapgl\"}], \"histogram\": [{\"marker\": {\"colorbar\": {\"outlinewidth\": 0, \"ticks\": \"\"}}, \"type\": \"histogram\"}], \"histogram2d\": [{\"colorbar\": {\"outlinewidth\": 0, \"ticks\": \"\"}, \"colorscale\": [[0.0, \"#0d0887\"], [0.1111111111111111, \"#46039f\"], [0.2222222222222222, \"#7201a8\"], [0.3333333333333333, \"#9c179e\"], [0.4444444444444444, \"#bd3786\"], [0.5555555555555556, \"#d8576b\"], [0.6666666666666666, \"#ed7953\"], [0.7777777777777778, \"#fb9f3a\"], [0.8888888888888888, \"#fdca26\"], [1.0, \"#f0f921\"]], \"type\": \"histogram2d\"}], \"histogram2dcontour\": [{\"colorbar\": {\"outlinewidth\": 0, \"ticks\": \"\"}, \"colorscale\": [[0.0, \"#0d0887\"], [0.1111111111111111, \"#46039f\"], [0.2222222222222222, \"#7201a8\"], [0.3333333333333333, \"#9c179e\"], [0.4444444444444444, \"#bd3786\"], [0.5555555555555556, \"#d8576b\"], [0.6666666666666666, \"#ed7953\"], [0.7777777777777778, \"#fb9f3a\"], [0.8888888888888888, \"#fdca26\"], [1.0, \"#f0f921\"]], \"type\": \"histogram2dcontour\"}], \"mesh3d\": [{\"colorbar\": {\"outlinewidth\": 0, \"ticks\": \"\"}, \"type\": \"mesh3d\"}], \"parcoords\": [{\"line\": {\"colorbar\": {\"outlinewidth\": 0, \"ticks\": \"\"}}, \"type\": \"parcoords\"}], \"pie\": [{\"automargin\": true, \"type\": \"pie\"}], \"scatter\": [{\"marker\": {\"colorbar\": {\"outlinewidth\": 0, \"ticks\": \"\"}}, \"type\": \"scatter\"}], \"scatter3d\": [{\"line\": {\"colorbar\": {\"outlinewidth\": 0, \"ticks\": \"\"}}, \"marker\": {\"colorbar\": {\"outlinewidth\": 0, \"ticks\": \"\"}}, \"type\": \"scatter3d\"}], \"scattercarpet\": [{\"marker\": {\"colorbar\": {\"outlinewidth\": 0, \"ticks\": \"\"}}, \"type\": \"scattercarpet\"}], \"scattergeo\": [{\"marker\": {\"colorbar\": {\"outlinewidth\": 0, \"ticks\": \"\"}}, \"type\": \"scattergeo\"}], \"scattergl\": [{\"marker\": {\"colorbar\": {\"outlinewidth\": 0, \"ticks\": \"\"}}, \"type\": \"scattergl\"}], \"scattermapbox\": [{\"marker\": {\"colorbar\": {\"outlinewidth\": 0, \"ticks\": \"\"}}, \"type\": \"scattermapbox\"}], \"scatterpolar\": [{\"marker\": {\"colorbar\": {\"outlinewidth\": 0, \"ticks\": \"\"}}, \"type\": \"scatterpolar\"}], \"scatterpolargl\": [{\"marker\": {\"colorbar\": {\"outlinewidth\": 0, \"ticks\": \"\"}}, \"type\": \"scatterpolargl\"}], \"scatterternary\": [{\"marker\": {\"colorbar\": {\"outlinewidth\": 0, \"ticks\": \"\"}}, \"type\": \"scatterternary\"}], \"surface\": [{\"colorbar\": {\"outlinewidth\": 0, \"ticks\": \"\"}, \"colorscale\": [[0.0, \"#0d0887\"], [0.1111111111111111, \"#46039f\"], [0.2222222222222222, \"#7201a8\"], [0.3333333333333333, \"#9c179e\"], [0.4444444444444444, \"#bd3786\"], [0.5555555555555556, \"#d8576b\"], [0.6666666666666666, \"#ed7953\"], [0.7777777777777778, \"#fb9f3a\"], [0.8888888888888888, \"#fdca26\"], [1.0, \"#f0f921\"]], \"type\": \"surface\"}], \"table\": [{\"cells\": {\"fill\": {\"color\": \"#EBF0F8\"}, \"line\": {\"color\": \"white\"}}, \"header\": {\"fill\": {\"color\": \"#C8D4E3\"}, \"line\": {\"color\": \"white\"}}, \"type\": \"table\"}]}, \"layout\": {\"annotationdefaults\": {\"arrowcolor\": \"#2a3f5f\", \"arrowhead\": 0, \"arrowwidth\": 1}, \"autotypenumbers\": \"strict\", \"coloraxis\": {\"colorbar\": {\"outlinewidth\": 0, \"ticks\": \"\"}}, \"colorscale\": {\"diverging\": [[0, \"#8e0152\"], [0.1, \"#c51b7d\"], [0.2, \"#de77ae\"], [0.3, \"#f1b6da\"], [0.4, \"#fde0ef\"], [0.5, \"#f7f7f7\"], [0.6, \"#e6f5d0\"], [0.7, \"#b8e186\"], [0.8, \"#7fbc41\"], [0.9, \"#4d9221\"], [1, \"#276419\"]], \"sequential\": [[0.0, \"#0d0887\"], [0.1111111111111111, \"#46039f\"], [0.2222222222222222, \"#7201a8\"], [0.3333333333333333, \"#9c179e\"], [0.4444444444444444, \"#bd3786\"], [0.5555555555555556, \"#d8576b\"], [0.6666666666666666, \"#ed7953\"], [0.7777777777777778, \"#fb9f3a\"], [0.8888888888888888, \"#fdca26\"], [1.0, \"#f0f921\"]], \"sequentialminus\": [[0.0, \"#0d0887\"], [0.1111111111111111, \"#46039f\"], [0.2222222222222222, \"#7201a8\"], [0.3333333333333333, \"#9c179e\"], [0.4444444444444444, \"#bd3786\"], [0.5555555555555556, \"#d8576b\"], [0.6666666666666666, \"#ed7953\"], [0.7777777777777778, \"#fb9f3a\"], [0.8888888888888888, \"#fdca26\"], [1.0, \"#f0f921\"]]}, \"colorway\": [\"#636efa\", \"#EF553B\", \"#00cc96\", \"#ab63fa\", \"#FFA15A\", \"#19d3f3\", \"#FF6692\", \"#B6E880\", \"#FF97FF\", \"#FECB52\"], \"font\": {\"color\": \"#2a3f5f\"}, \"geo\": {\"bgcolor\": \"white\", \"lakecolor\": \"white\", \"landcolor\": \"#E5ECF6\", \"showlakes\": true, \"showland\": true, \"subunitcolor\": \"white\"}, \"hoverlabel\": {\"align\": \"left\"}, \"hovermode\": \"closest\", \"mapbox\": {\"style\": \"light\"}, \"paper_bgcolor\": \"white\", \"plot_bgcolor\": \"#E5ECF6\", \"polar\": {\"angularaxis\": {\"gridcolor\": \"white\", \"linecolor\": \"white\", \"ticks\": \"\"}, \"bgcolor\": \"#E5ECF6\", \"radialaxis\": {\"gridcolor\": \"white\", \"linecolor\": \"white\", \"ticks\": \"\"}}, \"scene\": {\"xaxis\": {\"backgroundcolor\": \"#E5ECF6\", \"gridcolor\": \"white\", \"gridwidth\": 2, \"linecolor\": \"white\", \"showbackground\": true, \"ticks\": \"\", \"zerolinecolor\": \"white\"}, \"yaxis\": {\"backgroundcolor\": \"#E5ECF6\", \"gridcolor\": \"white\", \"gridwidth\": 2, \"linecolor\": \"white\", \"showbackground\": true, \"ticks\": \"\", \"zerolinecolor\": \"white\"}, \"zaxis\": {\"backgroundcolor\": \"#E5ECF6\", \"gridcolor\": \"white\", \"gridwidth\": 2, \"linecolor\": \"white\", \"showbackground\": true, \"ticks\": \"\", \"zerolinecolor\": \"white\"}}, \"shapedefaults\": {\"line\": {\"color\": \"#2a3f5f\"}}, \"ternary\": {\"aaxis\": {\"gridcolor\": \"white\", \"linecolor\": \"white\", \"ticks\": \"\"}, \"baxis\": {\"gridcolor\": \"white\", \"linecolor\": \"white\", \"ticks\": \"\"}, \"bgcolor\": \"#E5ECF6\", \"caxis\": {\"gridcolor\": \"white\", \"linecolor\": \"white\", \"ticks\": \"\"}}, \"title\": {\"x\": 0.05}, \"xaxis\": {\"automargin\": true, \"gridcolor\": \"white\", \"linecolor\": \"white\", \"ticks\": \"\", \"title\": {\"standoff\": 15}, \"zerolinecolor\": \"white\", \"zerolinewidth\": 2}, \"yaxis\": {\"automargin\": true, \"gridcolor\": \"white\", \"linecolor\": \"white\", \"ticks\": \"\", \"title\": {\"standoff\": 15}, \"zerolinecolor\": \"white\", \"zerolinewidth\": 2}}}, \"xaxis\": {\"anchor\": \"y\", \"categoryorder\": \"total descending\", \"domain\": [0.0, 1.0], \"title\": {\"text\": \"Name\"}}, \"yaxis\": {\"anchor\": \"x\", \"domain\": [0.0, 1.0], \"title\": {\"text\": \"Weighted Score\"}}},                        {\"responsive\": true}                    ).then(function(){\n",
       "                            \n",
       "var gd = document.getElementById('a33c241f-c377-44ae-bd13-c429bd1191d7');\n",
       "var x = new MutationObserver(function (mutations, observer) {{\n",
       "        var display = window.getComputedStyle(gd).display;\n",
       "        if (!display || display === 'none') {{\n",
       "            console.log([gd, 'removed!']);\n",
       "            Plotly.purge(gd);\n",
       "            observer.disconnect();\n",
       "        }}\n",
       "}});\n",
       "\n",
       "// Listen for the removal of the full notebook cells\n",
       "var notebookContainer = gd.closest('#notebook-container');\n",
       "if (notebookContainer) {{\n",
       "    x.observe(notebookContainer, {childList: true});\n",
       "}}\n",
       "\n",
       "// Listen for the clearing of the current output cell\n",
       "var outputEl = gd.closest('.output');\n",
       "if (outputEl) {{\n",
       "    x.observe(outputEl, {childList: true});\n",
       "}}\n",
       "\n",
       "                        })                };                });            </script>        </div>"
      ]
     },
     "metadata": {},
     "output_type": "display_data"
    }
   ],
   "source": [
    "import plotly.express as px\n",
    "fig = px.bar(fo_df, x='Name', y='Weighted Score')\n",
    "fig.update_layout(xaxis={'categoryorder':'total descending'})\n",
    "fig.show()"
   ]
  },
  {
   "cell_type": "markdown",
   "metadata": {},
   "source": [
    "#### Faceoff specialists selected according to highest rank"
   ]
  },
  {
   "cell_type": "code",
   "execution_count": 10,
   "metadata": {},
   "outputs": [],
   "source": [
    "fo_df.to_csv('Faceoff_Values.csv')"
   ]
  },
  {
   "cell_type": "markdown",
   "metadata": {},
   "source": [
    "### B. Takeaway Specialist\n",
    "\n",
    "__Takeaway:__ \n",
    "Takeaway is a forced action to by a player (usually defensemen) to gain possession of the puck from an opposing player.<br>\n",
    "\n",
    "_Source_ - https://www.rookieroad.com/ice-hockey/basics/takeaways-vs-giveaways/\n",
    "\n",
    "#### 1. Total Number of takeaways for each player\n",
    "#### 2. Number of takeaways when player's team is shorthanded\n",
    "_Finally, a weighted average value is considered where takeaways when team has fewer players is given twice the importance of a regular takeaway._"
   ]
  },
  {
   "cell_type": "code",
   "execution_count": 7,
   "metadata": {},
   "outputs": [
    {
     "name": "stdout",
     "output_type": "stream",
     "text": [
      "Done!!!\n"
     ]
    },
    {
     "data": {
      "text/html": [
       "<div>\n",
       "<style scoped>\n",
       "    .dataframe tbody tr th:only-of-type {\n",
       "        vertical-align: middle;\n",
       "    }\n",
       "\n",
       "    .dataframe tbody tr th {\n",
       "        vertical-align: top;\n",
       "    }\n",
       "\n",
       "    .dataframe thead th {\n",
       "        text-align: right;\n",
       "    }\n",
       "</style>\n",
       "<table border=\"1\" class=\"dataframe\">\n",
       "  <thead>\n",
       "    <tr style=\"text-align: right;\">\n",
       "      <th></th>\n",
       "      <th>Name</th>\n",
       "      <th>Team</th>\n",
       "      <th>Takeaways</th>\n",
       "      <th>TakeawaysShorthanded</th>\n",
       "      <th>Value</th>\n",
       "    </tr>\n",
       "  </thead>\n",
       "  <tbody>\n",
       "    <tr>\n",
       "      <th>0</th>\n",
       "      <td>Jillian Dempsey</td>\n",
       "      <td>Boston Pride</td>\n",
       "      <td>22</td>\n",
       "      <td>1</td>\n",
       "      <td>23</td>\n",
       "    </tr>\n",
       "    <tr>\n",
       "      <th>1</th>\n",
       "      <td>McKenna Brand</td>\n",
       "      <td>Boston Pride</td>\n",
       "      <td>7</td>\n",
       "      <td>1</td>\n",
       "      <td>8</td>\n",
       "    </tr>\n",
       "    <tr>\n",
       "      <th>2</th>\n",
       "      <td>Tereza Vanisova</td>\n",
       "      <td>Boston Pride</td>\n",
       "      <td>17</td>\n",
       "      <td>0</td>\n",
       "      <td>17</td>\n",
       "    </tr>\n",
       "    <tr>\n",
       "      <th>3</th>\n",
       "      <td>Samantha Davis</td>\n",
       "      <td>Boston Pride</td>\n",
       "      <td>18</td>\n",
       "      <td>0</td>\n",
       "      <td>18</td>\n",
       "    </tr>\n",
       "    <tr>\n",
       "      <th>4</th>\n",
       "      <td>Stephanie Anderson</td>\n",
       "      <td>Minnesota Whitecaps</td>\n",
       "      <td>19</td>\n",
       "      <td>4</td>\n",
       "      <td>23</td>\n",
       "    </tr>\n",
       "    <tr>\n",
       "      <th>5</th>\n",
       "      <td>Meghan Lorence</td>\n",
       "      <td>Minnesota Whitecaps</td>\n",
       "      <td>11</td>\n",
       "      <td>1</td>\n",
       "      <td>12</td>\n",
       "    </tr>\n",
       "    <tr>\n",
       "      <th>6</th>\n",
       "      <td>Mallory Souliotis</td>\n",
       "      <td>Boston Pride</td>\n",
       "      <td>22</td>\n",
       "      <td>1</td>\n",
       "      <td>23</td>\n",
       "    </tr>\n",
       "    <tr>\n",
       "      <th>7</th>\n",
       "      <td>Taylor Wenczkowski</td>\n",
       "      <td>Boston Pride</td>\n",
       "      <td>9</td>\n",
       "      <td>0</td>\n",
       "      <td>9</td>\n",
       "    </tr>\n",
       "    <tr>\n",
       "      <th>8</th>\n",
       "      <td>Sydney Baldwin</td>\n",
       "      <td>Minnesota Whitecaps</td>\n",
       "      <td>21</td>\n",
       "      <td>5</td>\n",
       "      <td>26</td>\n",
       "    </tr>\n",
       "    <tr>\n",
       "      <th>9</th>\n",
       "      <td>Kaleigh Fratkin</td>\n",
       "      <td>Boston Pride</td>\n",
       "      <td>16</td>\n",
       "      <td>3</td>\n",
       "      <td>19</td>\n",
       "    </tr>\n",
       "  </tbody>\n",
       "</table>\n",
       "</div>"
      ],
      "text/plain": [
       "                 Name                 Team  Takeaways  TakeawaysShorthanded  \\\n",
       "0     Jillian Dempsey         Boston Pride         22                     1   \n",
       "1       McKenna Brand         Boston Pride          7                     1   \n",
       "2     Tereza Vanisova         Boston Pride         17                     0   \n",
       "3      Samantha Davis         Boston Pride         18                     0   \n",
       "4  Stephanie Anderson  Minnesota Whitecaps         19                     4   \n",
       "5      Meghan Lorence  Minnesota Whitecaps         11                     1   \n",
       "6   Mallory Souliotis         Boston Pride         22                     1   \n",
       "7  Taylor Wenczkowski         Boston Pride          9                     0   \n",
       "8      Sydney Baldwin  Minnesota Whitecaps         21                     5   \n",
       "9     Kaleigh Fratkin         Boston Pride         16                     3   \n",
       "\n",
       "   Value  \n",
       "0     23  \n",
       "1      8  \n",
       "2     17  \n",
       "3     18  \n",
       "4     23  \n",
       "5     12  \n",
       "6     23  \n",
       "7      9  \n",
       "8     26  \n",
       "9     19  "
      ]
     },
     "execution_count": 7,
     "metadata": {},
     "output_type": "execute_result"
    }
   ],
   "source": [
    "TK=[]\n",
    "for player in players:\n",
    "    ta=0 #--------------->Total Takeaway\n",
    "    ta_p=0 #------------->Takeaway when there are fewer players\n",
    "    team=''\n",
    "    for index,row in hockey_data.iterrows():\n",
    "        if row['Player']==player:\n",
    "            team=row['Team']\n",
    "        if row['Player']==player and row['Event']=='Takeaway':\n",
    "            team=row['Team']\n",
    "            ta=ta+1\n",
    "            if row['Team']==row['Home Team'] and row['Home Team Skaters']<row['Away Team Skaters']:\n",
    "                ta_p=ta_p+1\n",
    "            if row['Team']==row['Away Team'] and row['Home Team Skaters']>row['Away Team Skaters']:\n",
    "                ta_p=ta_p+1\n",
    "    TK.append([player,team,ta,ta_p,ta+ta_p])    \n",
    "tk_df=pd.DataFrame(TK,columns=['Name','Team','Takeaways','TakeawaysShorthanded','Value'])\n",
    "print(\"Done!!!\") \n",
    "tk_df.head(10)"
   ]
  },
  {
   "cell_type": "code",
   "execution_count": 8,
   "metadata": {},
   "outputs": [
    {
     "data": {
      "application/vnd.plotly.v1+json": {
       "config": {
        "plotlyServerURL": "https://plot.ly"
       },
       "data": [
        {
         "alignmentgroup": "True",
         "hovertemplate": "Name=%{x}<br>Value=%{y}<extra></extra>",
         "legendgroup": "",
         "marker": {
          "color": "#636efa"
         },
         "name": "",
         "offsetgroup": "",
         "orientation": "v",
         "showlegend": false,
         "textposition": "auto",
         "type": "bar",
         "x": [
          "Jillian Dempsey",
          "McKenna Brand",
          "Tereza Vanisova",
          "Samantha Davis",
          "Stephanie Anderson",
          "Meghan Lorence",
          "Mallory Souliotis",
          "Taylor Wenczkowski",
          "Sydney Baldwin",
          "Kaleigh Fratkin",
          "Allie Thunstrom",
          "Chelsey Brodt-Rosenthal",
          "Nina Rodgers",
          "Emma Stauber",
          "Christina Putigna",
          "Haylea Schmid",
          "Taylor Turnquist",
          "Winny Brodt-Brown",
          "Lauren Kelly",
          "Lexie Laing",
          "Mary Parker",
          "Jenna Rheault",
          "Paige Capistran",
          "Tori Sullivan",
          "Carlee Turner",
          "Meaghan Rickard",
          "Meghara McManus",
          "Amanda Leveille",
          "Haley Mack",
          "Maddie Rowe",
          "Jonna Curtis",
          "Audra Richards",
          "Meaghan Pezon",
          "Sara Bustad",
          "Lynn Astrup",
          "Brooke White",
          "Lovisa Selander",
          "Rose Alleva",
          "Kayla Friesen",
          "Tori Howran",
          "Shannon Doyle",
          "Nicole Guagliardo",
          "Alyson Matteau",
          "Erin Gehen",
          "Jordan Juron",
          "Abbie Ives",
          "Marie-Jo Pelletier",
          "Janine Weber",
          "Carly Jackson",
          "Whitney Dove",
          "Emma Vlasic",
          "Dominique Kremer",
          "Katelynn Russ",
          "Alyssa Wohlfeiler",
          "Autumn MacDougall",
          "Maggie LaGue",
          "Elena Orlando",
          "Brooke Stacey",
          "Kayla Meneghin",
          "Hunter Accursi",
          "Taylor Marchin",
          "Grace Klienbach",
          "Megan Delay",
          "Sarah Schwenzfeier",
          "Kaycie Anderson",
          "Maddie Bishop",
          "Amanda Conway",
          "Iveta Klimasova",
          "Mackenzie Lancaster",
          "Neve Van Pelt",
          "Kristin Lewicki",
          "Hanna Beattie",
          "Brittany Colton",
          "Cassidy MacPherson",
          "Lenka Curmova",
          "Shiann Darkangelo",
          "Emma Greco",
          "Sonjia Shelly",
          "Sammy Kolowrat",
          "Kiira Dosdall",
          "Madison Packer",
          "Emma Woods",
          "Emily Janiga",
          "Sarah Steele",
          "Megan Quinn",
          "Kelly Babstock",
          "Jayne Lewis",
          "Leila Kilduff",
          "Breanne Wilson-Bennett",
          "Lindsay Eastwood",
          "Kendall Cornine",
          "Paige Voight",
          "Rebecca Morse",
          "Natalie Marcuzzi",
          "Taylor Woods",
          "Mallory Rushton",
          "Theresa Knutson",
          "Allie Olnowich",
          "Kristen Barbara",
          "Elaine Chuli",
          "Taytum Clairmont",
          "Julie Allen",
          "Rebecca Russo",
          "Kate Leary",
          "Emily Fluke",
          "Mikyla Grant-Mentis",
          "Sarah-Eve Coutu Godbout",
          "Saroya Tinker",
          "Amy Curlew",
          "Brooke Avery",
          "Mackenzie MacNeil",
          "Brooke Boquist",
          "Cailey Hutchison",
          "Victoria Hanson",
          "Brooke Wolejko",
          "Tera Hofmann",
          "Samantha Ridgewell",
          "Briana Mastel",
          "Laurel Hill",
          "Taylor Wasylk",
          "Lisa Chesson",
          "Caty Flagg",
          "Rachael Ade",
          "Maeve Reilly",
          "Sarah Hughson",
          "Mariah Fujimagari"
         ],
         "xaxis": "x",
         "y": [
          23,
          8,
          17,
          18,
          23,
          12,
          23,
          9,
          26,
          19,
          16,
          6,
          13,
          6,
          15,
          10,
          21,
          7,
          22,
          19,
          6,
          4,
          9,
          14,
          17,
          12,
          25,
          0,
          4,
          15,
          12,
          5,
          9,
          2,
          2,
          2,
          0,
          0,
          14,
          14,
          18,
          2,
          29,
          14,
          21,
          0,
          24,
          8,
          4,
          17,
          13,
          32,
          11,
          9,
          7,
          17,
          8,
          8,
          2,
          3,
          10,
          4,
          17,
          13,
          3,
          5,
          3,
          5,
          3,
          11,
          19,
          17,
          5,
          22,
          22,
          25,
          15,
          0,
          10,
          8,
          17,
          13,
          15,
          12,
          12,
          10,
          0,
          17,
          25,
          19,
          5,
          9,
          14,
          28,
          21,
          3,
          5,
          6,
          9,
          0,
          12,
          11,
          5,
          5,
          10,
          19,
          13,
          5,
          4,
          2,
          17,
          3,
          11,
          2,
          0,
          0,
          0,
          8,
          2,
          5,
          9,
          0,
          2,
          1,
          2,
          0
         ],
         "yaxis": "y"
        }
       ],
       "layout": {
        "barmode": "relative",
        "legend": {
         "tracegroupgap": 0
        },
        "margin": {
         "t": 60
        },
        "template": {
         "data": {
          "bar": [
           {
            "error_x": {
             "color": "#2a3f5f"
            },
            "error_y": {
             "color": "#2a3f5f"
            },
            "marker": {
             "line": {
              "color": "#E5ECF6",
              "width": 0.5
             }
            },
            "type": "bar"
           }
          ],
          "barpolar": [
           {
            "marker": {
             "line": {
              "color": "#E5ECF6",
              "width": 0.5
             }
            },
            "type": "barpolar"
           }
          ],
          "carpet": [
           {
            "aaxis": {
             "endlinecolor": "#2a3f5f",
             "gridcolor": "white",
             "linecolor": "white",
             "minorgridcolor": "white",
             "startlinecolor": "#2a3f5f"
            },
            "baxis": {
             "endlinecolor": "#2a3f5f",
             "gridcolor": "white",
             "linecolor": "white",
             "minorgridcolor": "white",
             "startlinecolor": "#2a3f5f"
            },
            "type": "carpet"
           }
          ],
          "choropleth": [
           {
            "colorbar": {
             "outlinewidth": 0,
             "ticks": ""
            },
            "type": "choropleth"
           }
          ],
          "contour": [
           {
            "colorbar": {
             "outlinewidth": 0,
             "ticks": ""
            },
            "colorscale": [
             [
              0,
              "#0d0887"
             ],
             [
              0.1111111111111111,
              "#46039f"
             ],
             [
              0.2222222222222222,
              "#7201a8"
             ],
             [
              0.3333333333333333,
              "#9c179e"
             ],
             [
              0.4444444444444444,
              "#bd3786"
             ],
             [
              0.5555555555555556,
              "#d8576b"
             ],
             [
              0.6666666666666666,
              "#ed7953"
             ],
             [
              0.7777777777777778,
              "#fb9f3a"
             ],
             [
              0.8888888888888888,
              "#fdca26"
             ],
             [
              1,
              "#f0f921"
             ]
            ],
            "type": "contour"
           }
          ],
          "contourcarpet": [
           {
            "colorbar": {
             "outlinewidth": 0,
             "ticks": ""
            },
            "type": "contourcarpet"
           }
          ],
          "heatmap": [
           {
            "colorbar": {
             "outlinewidth": 0,
             "ticks": ""
            },
            "colorscale": [
             [
              0,
              "#0d0887"
             ],
             [
              0.1111111111111111,
              "#46039f"
             ],
             [
              0.2222222222222222,
              "#7201a8"
             ],
             [
              0.3333333333333333,
              "#9c179e"
             ],
             [
              0.4444444444444444,
              "#bd3786"
             ],
             [
              0.5555555555555556,
              "#d8576b"
             ],
             [
              0.6666666666666666,
              "#ed7953"
             ],
             [
              0.7777777777777778,
              "#fb9f3a"
             ],
             [
              0.8888888888888888,
              "#fdca26"
             ],
             [
              1,
              "#f0f921"
             ]
            ],
            "type": "heatmap"
           }
          ],
          "heatmapgl": [
           {
            "colorbar": {
             "outlinewidth": 0,
             "ticks": ""
            },
            "colorscale": [
             [
              0,
              "#0d0887"
             ],
             [
              0.1111111111111111,
              "#46039f"
             ],
             [
              0.2222222222222222,
              "#7201a8"
             ],
             [
              0.3333333333333333,
              "#9c179e"
             ],
             [
              0.4444444444444444,
              "#bd3786"
             ],
             [
              0.5555555555555556,
              "#d8576b"
             ],
             [
              0.6666666666666666,
              "#ed7953"
             ],
             [
              0.7777777777777778,
              "#fb9f3a"
             ],
             [
              0.8888888888888888,
              "#fdca26"
             ],
             [
              1,
              "#f0f921"
             ]
            ],
            "type": "heatmapgl"
           }
          ],
          "histogram": [
           {
            "marker": {
             "colorbar": {
              "outlinewidth": 0,
              "ticks": ""
             }
            },
            "type": "histogram"
           }
          ],
          "histogram2d": [
           {
            "colorbar": {
             "outlinewidth": 0,
             "ticks": ""
            },
            "colorscale": [
             [
              0,
              "#0d0887"
             ],
             [
              0.1111111111111111,
              "#46039f"
             ],
             [
              0.2222222222222222,
              "#7201a8"
             ],
             [
              0.3333333333333333,
              "#9c179e"
             ],
             [
              0.4444444444444444,
              "#bd3786"
             ],
             [
              0.5555555555555556,
              "#d8576b"
             ],
             [
              0.6666666666666666,
              "#ed7953"
             ],
             [
              0.7777777777777778,
              "#fb9f3a"
             ],
             [
              0.8888888888888888,
              "#fdca26"
             ],
             [
              1,
              "#f0f921"
             ]
            ],
            "type": "histogram2d"
           }
          ],
          "histogram2dcontour": [
           {
            "colorbar": {
             "outlinewidth": 0,
             "ticks": ""
            },
            "colorscale": [
             [
              0,
              "#0d0887"
             ],
             [
              0.1111111111111111,
              "#46039f"
             ],
             [
              0.2222222222222222,
              "#7201a8"
             ],
             [
              0.3333333333333333,
              "#9c179e"
             ],
             [
              0.4444444444444444,
              "#bd3786"
             ],
             [
              0.5555555555555556,
              "#d8576b"
             ],
             [
              0.6666666666666666,
              "#ed7953"
             ],
             [
              0.7777777777777778,
              "#fb9f3a"
             ],
             [
              0.8888888888888888,
              "#fdca26"
             ],
             [
              1,
              "#f0f921"
             ]
            ],
            "type": "histogram2dcontour"
           }
          ],
          "mesh3d": [
           {
            "colorbar": {
             "outlinewidth": 0,
             "ticks": ""
            },
            "type": "mesh3d"
           }
          ],
          "parcoords": [
           {
            "line": {
             "colorbar": {
              "outlinewidth": 0,
              "ticks": ""
             }
            },
            "type": "parcoords"
           }
          ],
          "pie": [
           {
            "automargin": true,
            "type": "pie"
           }
          ],
          "scatter": [
           {
            "marker": {
             "colorbar": {
              "outlinewidth": 0,
              "ticks": ""
             }
            },
            "type": "scatter"
           }
          ],
          "scatter3d": [
           {
            "line": {
             "colorbar": {
              "outlinewidth": 0,
              "ticks": ""
             }
            },
            "marker": {
             "colorbar": {
              "outlinewidth": 0,
              "ticks": ""
             }
            },
            "type": "scatter3d"
           }
          ],
          "scattercarpet": [
           {
            "marker": {
             "colorbar": {
              "outlinewidth": 0,
              "ticks": ""
             }
            },
            "type": "scattercarpet"
           }
          ],
          "scattergeo": [
           {
            "marker": {
             "colorbar": {
              "outlinewidth": 0,
              "ticks": ""
             }
            },
            "type": "scattergeo"
           }
          ],
          "scattergl": [
           {
            "marker": {
             "colorbar": {
              "outlinewidth": 0,
              "ticks": ""
             }
            },
            "type": "scattergl"
           }
          ],
          "scattermapbox": [
           {
            "marker": {
             "colorbar": {
              "outlinewidth": 0,
              "ticks": ""
             }
            },
            "type": "scattermapbox"
           }
          ],
          "scatterpolar": [
           {
            "marker": {
             "colorbar": {
              "outlinewidth": 0,
              "ticks": ""
             }
            },
            "type": "scatterpolar"
           }
          ],
          "scatterpolargl": [
           {
            "marker": {
             "colorbar": {
              "outlinewidth": 0,
              "ticks": ""
             }
            },
            "type": "scatterpolargl"
           }
          ],
          "scatterternary": [
           {
            "marker": {
             "colorbar": {
              "outlinewidth": 0,
              "ticks": ""
             }
            },
            "type": "scatterternary"
           }
          ],
          "surface": [
           {
            "colorbar": {
             "outlinewidth": 0,
             "ticks": ""
            },
            "colorscale": [
             [
              0,
              "#0d0887"
             ],
             [
              0.1111111111111111,
              "#46039f"
             ],
             [
              0.2222222222222222,
              "#7201a8"
             ],
             [
              0.3333333333333333,
              "#9c179e"
             ],
             [
              0.4444444444444444,
              "#bd3786"
             ],
             [
              0.5555555555555556,
              "#d8576b"
             ],
             [
              0.6666666666666666,
              "#ed7953"
             ],
             [
              0.7777777777777778,
              "#fb9f3a"
             ],
             [
              0.8888888888888888,
              "#fdca26"
             ],
             [
              1,
              "#f0f921"
             ]
            ],
            "type": "surface"
           }
          ],
          "table": [
           {
            "cells": {
             "fill": {
              "color": "#EBF0F8"
             },
             "line": {
              "color": "white"
             }
            },
            "header": {
             "fill": {
              "color": "#C8D4E3"
             },
             "line": {
              "color": "white"
             }
            },
            "type": "table"
           }
          ]
         },
         "layout": {
          "annotationdefaults": {
           "arrowcolor": "#2a3f5f",
           "arrowhead": 0,
           "arrowwidth": 1
          },
          "autotypenumbers": "strict",
          "coloraxis": {
           "colorbar": {
            "outlinewidth": 0,
            "ticks": ""
           }
          },
          "colorscale": {
           "diverging": [
            [
             0,
             "#8e0152"
            ],
            [
             0.1,
             "#c51b7d"
            ],
            [
             0.2,
             "#de77ae"
            ],
            [
             0.3,
             "#f1b6da"
            ],
            [
             0.4,
             "#fde0ef"
            ],
            [
             0.5,
             "#f7f7f7"
            ],
            [
             0.6,
             "#e6f5d0"
            ],
            [
             0.7,
             "#b8e186"
            ],
            [
             0.8,
             "#7fbc41"
            ],
            [
             0.9,
             "#4d9221"
            ],
            [
             1,
             "#276419"
            ]
           ],
           "sequential": [
            [
             0,
             "#0d0887"
            ],
            [
             0.1111111111111111,
             "#46039f"
            ],
            [
             0.2222222222222222,
             "#7201a8"
            ],
            [
             0.3333333333333333,
             "#9c179e"
            ],
            [
             0.4444444444444444,
             "#bd3786"
            ],
            [
             0.5555555555555556,
             "#d8576b"
            ],
            [
             0.6666666666666666,
             "#ed7953"
            ],
            [
             0.7777777777777778,
             "#fb9f3a"
            ],
            [
             0.8888888888888888,
             "#fdca26"
            ],
            [
             1,
             "#f0f921"
            ]
           ],
           "sequentialminus": [
            [
             0,
             "#0d0887"
            ],
            [
             0.1111111111111111,
             "#46039f"
            ],
            [
             0.2222222222222222,
             "#7201a8"
            ],
            [
             0.3333333333333333,
             "#9c179e"
            ],
            [
             0.4444444444444444,
             "#bd3786"
            ],
            [
             0.5555555555555556,
             "#d8576b"
            ],
            [
             0.6666666666666666,
             "#ed7953"
            ],
            [
             0.7777777777777778,
             "#fb9f3a"
            ],
            [
             0.8888888888888888,
             "#fdca26"
            ],
            [
             1,
             "#f0f921"
            ]
           ]
          },
          "colorway": [
           "#636efa",
           "#EF553B",
           "#00cc96",
           "#ab63fa",
           "#FFA15A",
           "#19d3f3",
           "#FF6692",
           "#B6E880",
           "#FF97FF",
           "#FECB52"
          ],
          "font": {
           "color": "#2a3f5f"
          },
          "geo": {
           "bgcolor": "white",
           "lakecolor": "white",
           "landcolor": "#E5ECF6",
           "showlakes": true,
           "showland": true,
           "subunitcolor": "white"
          },
          "hoverlabel": {
           "align": "left"
          },
          "hovermode": "closest",
          "mapbox": {
           "style": "light"
          },
          "paper_bgcolor": "white",
          "plot_bgcolor": "#E5ECF6",
          "polar": {
           "angularaxis": {
            "gridcolor": "white",
            "linecolor": "white",
            "ticks": ""
           },
           "bgcolor": "#E5ECF6",
           "radialaxis": {
            "gridcolor": "white",
            "linecolor": "white",
            "ticks": ""
           }
          },
          "scene": {
           "xaxis": {
            "backgroundcolor": "#E5ECF6",
            "gridcolor": "white",
            "gridwidth": 2,
            "linecolor": "white",
            "showbackground": true,
            "ticks": "",
            "zerolinecolor": "white"
           },
           "yaxis": {
            "backgroundcolor": "#E5ECF6",
            "gridcolor": "white",
            "gridwidth": 2,
            "linecolor": "white",
            "showbackground": true,
            "ticks": "",
            "zerolinecolor": "white"
           },
           "zaxis": {
            "backgroundcolor": "#E5ECF6",
            "gridcolor": "white",
            "gridwidth": 2,
            "linecolor": "white",
            "showbackground": true,
            "ticks": "",
            "zerolinecolor": "white"
           }
          },
          "shapedefaults": {
           "line": {
            "color": "#2a3f5f"
           }
          },
          "ternary": {
           "aaxis": {
            "gridcolor": "white",
            "linecolor": "white",
            "ticks": ""
           },
           "baxis": {
            "gridcolor": "white",
            "linecolor": "white",
            "ticks": ""
           },
           "bgcolor": "#E5ECF6",
           "caxis": {
            "gridcolor": "white",
            "linecolor": "white",
            "ticks": ""
           }
          },
          "title": {
           "x": 0.05
          },
          "xaxis": {
           "automargin": true,
           "gridcolor": "white",
           "linecolor": "white",
           "ticks": "",
           "title": {
            "standoff": 15
           },
           "zerolinecolor": "white",
           "zerolinewidth": 2
          },
          "yaxis": {
           "automargin": true,
           "gridcolor": "white",
           "linecolor": "white",
           "ticks": "",
           "title": {
            "standoff": 15
           },
           "zerolinecolor": "white",
           "zerolinewidth": 2
          }
         }
        },
        "xaxis": {
         "anchor": "y",
         "categoryorder": "total descending",
         "domain": [
          0,
          1
         ],
         "title": {
          "text": "Name"
         }
        },
        "yaxis": {
         "anchor": "x",
         "domain": [
          0,
          1
         ],
         "title": {
          "text": "Value"
         }
        }
       }
      },
      "text/html": [
       "<div>                            <div id=\"a6e8715c-c74a-4bce-afc5-80aef9b57e74\" class=\"plotly-graph-div\" style=\"height:525px; width:100%;\"></div>            <script type=\"text/javascript\">                require([\"plotly\"], function(Plotly) {                    window.PLOTLYENV=window.PLOTLYENV || {};                                    if (document.getElementById(\"a6e8715c-c74a-4bce-afc5-80aef9b57e74\")) {                    Plotly.newPlot(                        \"a6e8715c-c74a-4bce-afc5-80aef9b57e74\",                        [{\"alignmentgroup\": \"True\", \"hovertemplate\": \"Name=%{x}<br>Value=%{y}<extra></extra>\", \"legendgroup\": \"\", \"marker\": {\"color\": \"#636efa\"}, \"name\": \"\", \"offsetgroup\": \"\", \"orientation\": \"v\", \"showlegend\": false, \"textposition\": \"auto\", \"type\": \"bar\", \"x\": [\"Jillian Dempsey\", \"McKenna Brand\", \"Tereza Vanisova\", \"Samantha Davis\", \"Stephanie Anderson\", \"Meghan Lorence\", \"Mallory Souliotis\", \"Taylor Wenczkowski\", \"Sydney Baldwin\", \"Kaleigh Fratkin\", \"Allie Thunstrom\", \"Chelsey Brodt-Rosenthal\", \"Nina Rodgers\", \"Emma Stauber\", \"Christina Putigna\", \"Haylea Schmid\", \"Taylor Turnquist\", \"Winny Brodt-Brown\", \"Lauren Kelly\", \"Lexie Laing\", \"Mary Parker\", \"Jenna Rheault\", \"Paige Capistran\", \"Tori Sullivan\", \"Carlee Turner\", \"Meaghan Rickard\", \"Meghara McManus\", \"Amanda Leveille\", \"Haley Mack\", \"Maddie Rowe\", \"Jonna Curtis\", \"Audra Richards\", \"Meaghan Pezon\", \"Sara Bustad\", \"Lynn Astrup\", \"Brooke White\", \"Lovisa Selander\", \"Rose Alleva\", \"Kayla Friesen\", \"Tori Howran\", \"Shannon Doyle\", \"Nicole Guagliardo\", \"Alyson Matteau\", \"Erin Gehen\", \"Jordan Juron\", \"Abbie Ives\", \"Marie-Jo Pelletier\", \"Janine Weber\", \"Carly Jackson\", \"Whitney Dove\", \"Emma Vlasic\", \"Dominique Kremer\", \"Katelynn Russ\", \"Alyssa Wohlfeiler\", \"Autumn MacDougall\", \"Maggie LaGue\", \"Elena Orlando\", \"Brooke Stacey\", \"Kayla Meneghin\", \"Hunter Accursi\", \"Taylor Marchin\", \"Grace Klienbach\", \"Megan Delay\", \"Sarah Schwenzfeier\", \"Kaycie Anderson\", \"Maddie Bishop\", \"Amanda Conway\", \"Iveta Klimasova\", \"Mackenzie Lancaster\", \"Neve Van Pelt\", \"Kristin Lewicki\", \"Hanna Beattie\", \"Brittany Colton\", \"Cassidy MacPherson\", \"Lenka Curmova\", \"Shiann Darkangelo\", \"Emma Greco\", \"Sonjia Shelly\", \"Sammy Kolowrat\", \"Kiira Dosdall\", \"Madison Packer\", \"Emma Woods\", \"Emily Janiga\", \"Sarah Steele\", \"Megan Quinn\", \"Kelly Babstock\", \"Jayne Lewis\", \"Leila Kilduff\", \"Breanne Wilson-Bennett\", \"Lindsay Eastwood\", \"Kendall Cornine\", \"Paige Voight\", \"Rebecca Morse\", \"Natalie Marcuzzi\", \"Taylor Woods\", \"Mallory Rushton\", \"Theresa Knutson\", \"Allie Olnowich\", \"Kristen Barbara\", \"Elaine Chuli\", \"Taytum Clairmont\", \"Julie Allen\", \"Rebecca Russo\", \"Kate Leary\", \"Emily Fluke\", \"Mikyla Grant-Mentis\", \"Sarah-Eve Coutu Godbout\", \"Saroya Tinker\", \"Amy Curlew\", \"Brooke Avery\", \"Mackenzie MacNeil\", \"Brooke Boquist\", \"Cailey Hutchison\", \"Victoria Hanson\", \"Brooke Wolejko\", \"Tera Hofmann\", \"Samantha Ridgewell\", \"Briana Mastel\", \"Laurel Hill\", \"Taylor Wasylk\", \"Lisa Chesson\", \"Caty Flagg\", \"Rachael Ade\", \"Maeve Reilly\", \"Sarah Hughson\", \"Mariah Fujimagari\"], \"xaxis\": \"x\", \"y\": [23, 8, 17, 18, 23, 12, 23, 9, 26, 19, 16, 6, 13, 6, 15, 10, 21, 7, 22, 19, 6, 4, 9, 14, 17, 12, 25, 0, 4, 15, 12, 5, 9, 2, 2, 2, 0, 0, 14, 14, 18, 2, 29, 14, 21, 0, 24, 8, 4, 17, 13, 32, 11, 9, 7, 17, 8, 8, 2, 3, 10, 4, 17, 13, 3, 5, 3, 5, 3, 11, 19, 17, 5, 22, 22, 25, 15, 0, 10, 8, 17, 13, 15, 12, 12, 10, 0, 17, 25, 19, 5, 9, 14, 28, 21, 3, 5, 6, 9, 0, 12, 11, 5, 5, 10, 19, 13, 5, 4, 2, 17, 3, 11, 2, 0, 0, 0, 8, 2, 5, 9, 0, 2, 1, 2, 0], \"yaxis\": \"y\"}],                        {\"barmode\": \"relative\", \"legend\": {\"tracegroupgap\": 0}, \"margin\": {\"t\": 60}, \"template\": {\"data\": {\"bar\": [{\"error_x\": {\"color\": \"#2a3f5f\"}, \"error_y\": {\"color\": \"#2a3f5f\"}, \"marker\": {\"line\": {\"color\": \"#E5ECF6\", \"width\": 0.5}}, \"type\": \"bar\"}], \"barpolar\": [{\"marker\": {\"line\": {\"color\": \"#E5ECF6\", \"width\": 0.5}}, \"type\": \"barpolar\"}], \"carpet\": [{\"aaxis\": {\"endlinecolor\": \"#2a3f5f\", \"gridcolor\": \"white\", \"linecolor\": \"white\", \"minorgridcolor\": \"white\", \"startlinecolor\": \"#2a3f5f\"}, \"baxis\": {\"endlinecolor\": \"#2a3f5f\", \"gridcolor\": \"white\", \"linecolor\": \"white\", \"minorgridcolor\": \"white\", \"startlinecolor\": \"#2a3f5f\"}, \"type\": \"carpet\"}], \"choropleth\": [{\"colorbar\": {\"outlinewidth\": 0, \"ticks\": \"\"}, \"type\": \"choropleth\"}], \"contour\": [{\"colorbar\": {\"outlinewidth\": 0, \"ticks\": \"\"}, \"colorscale\": [[0.0, \"#0d0887\"], [0.1111111111111111, \"#46039f\"], [0.2222222222222222, \"#7201a8\"], [0.3333333333333333, \"#9c179e\"], [0.4444444444444444, \"#bd3786\"], [0.5555555555555556, \"#d8576b\"], [0.6666666666666666, \"#ed7953\"], [0.7777777777777778, \"#fb9f3a\"], [0.8888888888888888, \"#fdca26\"], [1.0, \"#f0f921\"]], \"type\": \"contour\"}], \"contourcarpet\": [{\"colorbar\": {\"outlinewidth\": 0, \"ticks\": \"\"}, \"type\": \"contourcarpet\"}], \"heatmap\": [{\"colorbar\": {\"outlinewidth\": 0, \"ticks\": \"\"}, \"colorscale\": [[0.0, \"#0d0887\"], [0.1111111111111111, \"#46039f\"], [0.2222222222222222, \"#7201a8\"], [0.3333333333333333, \"#9c179e\"], [0.4444444444444444, \"#bd3786\"], [0.5555555555555556, \"#d8576b\"], [0.6666666666666666, \"#ed7953\"], [0.7777777777777778, \"#fb9f3a\"], [0.8888888888888888, \"#fdca26\"], [1.0, \"#f0f921\"]], \"type\": \"heatmap\"}], \"heatmapgl\": [{\"colorbar\": {\"outlinewidth\": 0, \"ticks\": \"\"}, \"colorscale\": [[0.0, \"#0d0887\"], [0.1111111111111111, \"#46039f\"], [0.2222222222222222, \"#7201a8\"], [0.3333333333333333, \"#9c179e\"], [0.4444444444444444, \"#bd3786\"], [0.5555555555555556, \"#d8576b\"], [0.6666666666666666, \"#ed7953\"], [0.7777777777777778, \"#fb9f3a\"], [0.8888888888888888, \"#fdca26\"], [1.0, \"#f0f921\"]], \"type\": \"heatmapgl\"}], \"histogram\": [{\"marker\": {\"colorbar\": {\"outlinewidth\": 0, \"ticks\": \"\"}}, \"type\": \"histogram\"}], \"histogram2d\": [{\"colorbar\": {\"outlinewidth\": 0, \"ticks\": \"\"}, \"colorscale\": [[0.0, \"#0d0887\"], [0.1111111111111111, \"#46039f\"], [0.2222222222222222, \"#7201a8\"], [0.3333333333333333, \"#9c179e\"], [0.4444444444444444, \"#bd3786\"], [0.5555555555555556, \"#d8576b\"], [0.6666666666666666, \"#ed7953\"], [0.7777777777777778, \"#fb9f3a\"], [0.8888888888888888, \"#fdca26\"], [1.0, \"#f0f921\"]], \"type\": \"histogram2d\"}], \"histogram2dcontour\": [{\"colorbar\": {\"outlinewidth\": 0, \"ticks\": \"\"}, \"colorscale\": [[0.0, \"#0d0887\"], [0.1111111111111111, \"#46039f\"], [0.2222222222222222, \"#7201a8\"], [0.3333333333333333, \"#9c179e\"], [0.4444444444444444, \"#bd3786\"], [0.5555555555555556, \"#d8576b\"], [0.6666666666666666, \"#ed7953\"], [0.7777777777777778, \"#fb9f3a\"], [0.8888888888888888, \"#fdca26\"], [1.0, \"#f0f921\"]], \"type\": \"histogram2dcontour\"}], \"mesh3d\": [{\"colorbar\": {\"outlinewidth\": 0, \"ticks\": \"\"}, \"type\": \"mesh3d\"}], \"parcoords\": [{\"line\": {\"colorbar\": {\"outlinewidth\": 0, \"ticks\": \"\"}}, \"type\": \"parcoords\"}], \"pie\": [{\"automargin\": true, \"type\": \"pie\"}], \"scatter\": [{\"marker\": {\"colorbar\": {\"outlinewidth\": 0, \"ticks\": \"\"}}, \"type\": \"scatter\"}], \"scatter3d\": [{\"line\": {\"colorbar\": {\"outlinewidth\": 0, \"ticks\": \"\"}}, \"marker\": {\"colorbar\": {\"outlinewidth\": 0, \"ticks\": \"\"}}, \"type\": \"scatter3d\"}], \"scattercarpet\": [{\"marker\": {\"colorbar\": {\"outlinewidth\": 0, \"ticks\": \"\"}}, \"type\": \"scattercarpet\"}], \"scattergeo\": [{\"marker\": {\"colorbar\": {\"outlinewidth\": 0, \"ticks\": \"\"}}, \"type\": \"scattergeo\"}], \"scattergl\": [{\"marker\": {\"colorbar\": {\"outlinewidth\": 0, \"ticks\": \"\"}}, \"type\": \"scattergl\"}], \"scattermapbox\": [{\"marker\": {\"colorbar\": {\"outlinewidth\": 0, \"ticks\": \"\"}}, \"type\": \"scattermapbox\"}], \"scatterpolar\": [{\"marker\": {\"colorbar\": {\"outlinewidth\": 0, \"ticks\": \"\"}}, \"type\": \"scatterpolar\"}], \"scatterpolargl\": [{\"marker\": {\"colorbar\": {\"outlinewidth\": 0, \"ticks\": \"\"}}, \"type\": \"scatterpolargl\"}], \"scatterternary\": [{\"marker\": {\"colorbar\": {\"outlinewidth\": 0, \"ticks\": \"\"}}, \"type\": \"scatterternary\"}], \"surface\": [{\"colorbar\": {\"outlinewidth\": 0, \"ticks\": \"\"}, \"colorscale\": [[0.0, \"#0d0887\"], [0.1111111111111111, \"#46039f\"], [0.2222222222222222, \"#7201a8\"], [0.3333333333333333, \"#9c179e\"], [0.4444444444444444, \"#bd3786\"], [0.5555555555555556, \"#d8576b\"], [0.6666666666666666, \"#ed7953\"], [0.7777777777777778, \"#fb9f3a\"], [0.8888888888888888, \"#fdca26\"], [1.0, \"#f0f921\"]], \"type\": \"surface\"}], \"table\": [{\"cells\": {\"fill\": {\"color\": \"#EBF0F8\"}, \"line\": {\"color\": \"white\"}}, \"header\": {\"fill\": {\"color\": \"#C8D4E3\"}, \"line\": {\"color\": \"white\"}}, \"type\": \"table\"}]}, \"layout\": {\"annotationdefaults\": {\"arrowcolor\": \"#2a3f5f\", \"arrowhead\": 0, \"arrowwidth\": 1}, \"autotypenumbers\": \"strict\", \"coloraxis\": {\"colorbar\": {\"outlinewidth\": 0, \"ticks\": \"\"}}, \"colorscale\": {\"diverging\": [[0, \"#8e0152\"], [0.1, \"#c51b7d\"], [0.2, \"#de77ae\"], [0.3, \"#f1b6da\"], [0.4, \"#fde0ef\"], [0.5, \"#f7f7f7\"], [0.6, \"#e6f5d0\"], [0.7, \"#b8e186\"], [0.8, \"#7fbc41\"], [0.9, \"#4d9221\"], [1, \"#276419\"]], \"sequential\": [[0.0, \"#0d0887\"], [0.1111111111111111, \"#46039f\"], [0.2222222222222222, \"#7201a8\"], [0.3333333333333333, \"#9c179e\"], [0.4444444444444444, \"#bd3786\"], [0.5555555555555556, \"#d8576b\"], [0.6666666666666666, \"#ed7953\"], [0.7777777777777778, \"#fb9f3a\"], [0.8888888888888888, \"#fdca26\"], [1.0, \"#f0f921\"]], \"sequentialminus\": [[0.0, \"#0d0887\"], [0.1111111111111111, \"#46039f\"], [0.2222222222222222, \"#7201a8\"], [0.3333333333333333, \"#9c179e\"], [0.4444444444444444, \"#bd3786\"], [0.5555555555555556, \"#d8576b\"], [0.6666666666666666, \"#ed7953\"], [0.7777777777777778, \"#fb9f3a\"], [0.8888888888888888, \"#fdca26\"], [1.0, \"#f0f921\"]]}, \"colorway\": [\"#636efa\", \"#EF553B\", \"#00cc96\", \"#ab63fa\", \"#FFA15A\", \"#19d3f3\", \"#FF6692\", \"#B6E880\", \"#FF97FF\", \"#FECB52\"], \"font\": {\"color\": \"#2a3f5f\"}, \"geo\": {\"bgcolor\": \"white\", \"lakecolor\": \"white\", \"landcolor\": \"#E5ECF6\", \"showlakes\": true, \"showland\": true, \"subunitcolor\": \"white\"}, \"hoverlabel\": {\"align\": \"left\"}, \"hovermode\": \"closest\", \"mapbox\": {\"style\": \"light\"}, \"paper_bgcolor\": \"white\", \"plot_bgcolor\": \"#E5ECF6\", \"polar\": {\"angularaxis\": {\"gridcolor\": \"white\", \"linecolor\": \"white\", \"ticks\": \"\"}, \"bgcolor\": \"#E5ECF6\", \"radialaxis\": {\"gridcolor\": \"white\", \"linecolor\": \"white\", \"ticks\": \"\"}}, \"scene\": {\"xaxis\": {\"backgroundcolor\": \"#E5ECF6\", \"gridcolor\": \"white\", \"gridwidth\": 2, \"linecolor\": \"white\", \"showbackground\": true, \"ticks\": \"\", \"zerolinecolor\": \"white\"}, \"yaxis\": {\"backgroundcolor\": \"#E5ECF6\", \"gridcolor\": \"white\", \"gridwidth\": 2, \"linecolor\": \"white\", \"showbackground\": true, \"ticks\": \"\", \"zerolinecolor\": \"white\"}, \"zaxis\": {\"backgroundcolor\": \"#E5ECF6\", \"gridcolor\": \"white\", \"gridwidth\": 2, \"linecolor\": \"white\", \"showbackground\": true, \"ticks\": \"\", \"zerolinecolor\": \"white\"}}, \"shapedefaults\": {\"line\": {\"color\": \"#2a3f5f\"}}, \"ternary\": {\"aaxis\": {\"gridcolor\": \"white\", \"linecolor\": \"white\", \"ticks\": \"\"}, \"baxis\": {\"gridcolor\": \"white\", \"linecolor\": \"white\", \"ticks\": \"\"}, \"bgcolor\": \"#E5ECF6\", \"caxis\": {\"gridcolor\": \"white\", \"linecolor\": \"white\", \"ticks\": \"\"}}, \"title\": {\"x\": 0.05}, \"xaxis\": {\"automargin\": true, \"gridcolor\": \"white\", \"linecolor\": \"white\", \"ticks\": \"\", \"title\": {\"standoff\": 15}, \"zerolinecolor\": \"white\", \"zerolinewidth\": 2}, \"yaxis\": {\"automargin\": true, \"gridcolor\": \"white\", \"linecolor\": \"white\", \"ticks\": \"\", \"title\": {\"standoff\": 15}, \"zerolinecolor\": \"white\", \"zerolinewidth\": 2}}}, \"xaxis\": {\"anchor\": \"y\", \"categoryorder\": \"total descending\", \"domain\": [0.0, 1.0], \"title\": {\"text\": \"Name\"}}, \"yaxis\": {\"anchor\": \"x\", \"domain\": [0.0, 1.0], \"title\": {\"text\": \"Value\"}}},                        {\"responsive\": true}                    ).then(function(){\n",
       "                            \n",
       "var gd = document.getElementById('a6e8715c-c74a-4bce-afc5-80aef9b57e74');\n",
       "var x = new MutationObserver(function (mutations, observer) {{\n",
       "        var display = window.getComputedStyle(gd).display;\n",
       "        if (!display || display === 'none') {{\n",
       "            console.log([gd, 'removed!']);\n",
       "            Plotly.purge(gd);\n",
       "            observer.disconnect();\n",
       "        }}\n",
       "}});\n",
       "\n",
       "// Listen for the removal of the full notebook cells\n",
       "var notebookContainer = gd.closest('#notebook-container');\n",
       "if (notebookContainer) {{\n",
       "    x.observe(notebookContainer, {childList: true});\n",
       "}}\n",
       "\n",
       "// Listen for the clearing of the current output cell\n",
       "var outputEl = gd.closest('.output');\n",
       "if (outputEl) {{\n",
       "    x.observe(outputEl, {childList: true});\n",
       "}}\n",
       "\n",
       "                        })                };                });            </script>        </div>"
      ]
     },
     "metadata": {},
     "output_type": "display_data"
    }
   ],
   "source": [
    "fig = px.bar(tk_df, x='Name', y='Value')\n",
    "fig.update_layout(xaxis={'categoryorder':'total descending'})\n",
    "fig.show()"
   ]
  },
  {
   "cell_type": "markdown",
   "metadata": {},
   "source": [
    "#### Takeaway specialists selected according to highest rank"
   ]
  },
  {
   "cell_type": "code",
   "execution_count": 9,
   "metadata": {},
   "outputs": [],
   "source": [
    "tk_df.to_csv('Takeaway_Value.csv')"
   ]
  },
  {
   "cell_type": "markdown",
   "metadata": {},
   "source": [
    "### C. Penalty Differential - _To understand player's style_\n",
    "\n",
    "#### Penalty Differential = Penalty Drawn - Penalty Taken"
   ]
  },
  {
   "cell_type": "code",
   "execution_count": 11,
   "metadata": {},
   "outputs": [
    {
     "name": "stdout",
     "output_type": "stream",
     "text": [
      "Done!!!\n"
     ]
    },
    {
     "data": {
      "text/html": [
       "<div>\n",
       "<style scoped>\n",
       "    .dataframe tbody tr th:only-of-type {\n",
       "        vertical-align: middle;\n",
       "    }\n",
       "\n",
       "    .dataframe tbody tr th {\n",
       "        vertical-align: top;\n",
       "    }\n",
       "\n",
       "    .dataframe thead th {\n",
       "        text-align: right;\n",
       "    }\n",
       "</style>\n",
       "<table border=\"1\" class=\"dataframe\">\n",
       "  <thead>\n",
       "    <tr style=\"text-align: right;\">\n",
       "      <th></th>\n",
       "      <th>Name</th>\n",
       "      <th>Team</th>\n",
       "      <th>Penalty Taken</th>\n",
       "      <th>Penalty Drawn</th>\n",
       "      <th>PenDiff</th>\n",
       "    </tr>\n",
       "  </thead>\n",
       "  <tbody>\n",
       "    <tr>\n",
       "      <th>0</th>\n",
       "      <td>Jillian Dempsey</td>\n",
       "      <td>Boston Pride</td>\n",
       "      <td>0</td>\n",
       "      <td>2</td>\n",
       "      <td>2</td>\n",
       "    </tr>\n",
       "    <tr>\n",
       "      <th>1</th>\n",
       "      <td>McKenna Brand</td>\n",
       "      <td>Boston Pride</td>\n",
       "      <td>2</td>\n",
       "      <td>2</td>\n",
       "      <td>0</td>\n",
       "    </tr>\n",
       "    <tr>\n",
       "      <th>2</th>\n",
       "      <td>Tereza Vanisova</td>\n",
       "      <td>Boston Pride</td>\n",
       "      <td>5</td>\n",
       "      <td>2</td>\n",
       "      <td>-3</td>\n",
       "    </tr>\n",
       "    <tr>\n",
       "      <th>3</th>\n",
       "      <td>Samantha Davis</td>\n",
       "      <td>Boston Pride</td>\n",
       "      <td>1</td>\n",
       "      <td>4</td>\n",
       "      <td>3</td>\n",
       "    </tr>\n",
       "    <tr>\n",
       "      <th>4</th>\n",
       "      <td>Stephanie Anderson</td>\n",
       "      <td>Minnesota Whitecaps</td>\n",
       "      <td>0</td>\n",
       "      <td>3</td>\n",
       "      <td>3</td>\n",
       "    </tr>\n",
       "    <tr>\n",
       "      <th>5</th>\n",
       "      <td>Meghan Lorence</td>\n",
       "      <td>Minnesota Whitecaps</td>\n",
       "      <td>1</td>\n",
       "      <td>1</td>\n",
       "      <td>0</td>\n",
       "    </tr>\n",
       "    <tr>\n",
       "      <th>6</th>\n",
       "      <td>Mallory Souliotis</td>\n",
       "      <td>Boston Pride</td>\n",
       "      <td>0</td>\n",
       "      <td>4</td>\n",
       "      <td>4</td>\n",
       "    </tr>\n",
       "    <tr>\n",
       "      <th>7</th>\n",
       "      <td>Taylor Wenczkowski</td>\n",
       "      <td>Boston Pride</td>\n",
       "      <td>3</td>\n",
       "      <td>3</td>\n",
       "      <td>0</td>\n",
       "    </tr>\n",
       "    <tr>\n",
       "      <th>8</th>\n",
       "      <td>Sydney Baldwin</td>\n",
       "      <td>Minnesota Whitecaps</td>\n",
       "      <td>2</td>\n",
       "      <td>1</td>\n",
       "      <td>-1</td>\n",
       "    </tr>\n",
       "    <tr>\n",
       "      <th>9</th>\n",
       "      <td>Kaleigh Fratkin</td>\n",
       "      <td>Boston Pride</td>\n",
       "      <td>5</td>\n",
       "      <td>0</td>\n",
       "      <td>-5</td>\n",
       "    </tr>\n",
       "  </tbody>\n",
       "</table>\n",
       "</div>"
      ],
      "text/plain": [
       "                 Name                 Team  Penalty Taken  Penalty Drawn  \\\n",
       "0     Jillian Dempsey         Boston Pride              0              2   \n",
       "1       McKenna Brand         Boston Pride              2              2   \n",
       "2     Tereza Vanisova         Boston Pride              5              2   \n",
       "3      Samantha Davis         Boston Pride              1              4   \n",
       "4  Stephanie Anderson  Minnesota Whitecaps              0              3   \n",
       "5      Meghan Lorence  Minnesota Whitecaps              1              1   \n",
       "6   Mallory Souliotis         Boston Pride              0              4   \n",
       "7  Taylor Wenczkowski         Boston Pride              3              3   \n",
       "8      Sydney Baldwin  Minnesota Whitecaps              2              1   \n",
       "9     Kaleigh Fratkin         Boston Pride              5              0   \n",
       "\n",
       "   PenDiff  \n",
       "0        2  \n",
       "1        0  \n",
       "2       -3  \n",
       "3        3  \n",
       "4        3  \n",
       "5        0  \n",
       "6        4  \n",
       "7        0  \n",
       "8       -1  \n",
       "9       -5  "
      ]
     },
     "execution_count": 11,
     "metadata": {},
     "output_type": "execute_result"
    }
   ],
   "source": [
    "pdiff=[]\n",
    "for player in players:\n",
    "    pt=0\n",
    "    pdr=0\n",
    "    team=''\n",
    "    for index,row in hockey_data.iterrows():\n",
    "        if row['Player']==player:\n",
    "            team=row['Team']\n",
    "        if row['Player']==player and row['Event']=='Penalty Taken':\n",
    "            pt=pt+1\n",
    "        if row['Player 2']==player and row['Event']=='Penalty Taken':\n",
    "            pdr=pdr+1\n",
    "    pdiff.append([player,team,pt,pdr,pdr-pt])    \n",
    "pdiff_df=pd.DataFrame(pdiff,columns=['Name','Team','Penalty Taken','Penalty Drawn','PenDiff'])\n",
    "print(\"Done!!!\") \n",
    "pdiff_df.head(10)"
   ]
  },
  {
   "cell_type": "code",
   "execution_count": 15,
   "metadata": {},
   "outputs": [
    {
     "data": {
      "application/vnd.plotly.v1+json": {
       "config": {
        "plotlyServerURL": "https://plot.ly"
       },
       "data": [
        {
         "alignmentgroup": "True",
         "hovertemplate": "Name=%{x}<br>PenDiff=%{y}<extra></extra>",
         "legendgroup": "",
         "marker": {
          "color": "#636efa"
         },
         "name": "",
         "offsetgroup": "",
         "orientation": "v",
         "showlegend": false,
         "textposition": "auto",
         "type": "bar",
         "x": [
          "Jillian Dempsey",
          "McKenna Brand",
          "Tereza Vanisova",
          "Samantha Davis",
          "Stephanie Anderson",
          "Meghan Lorence",
          "Mallory Souliotis",
          "Taylor Wenczkowski",
          "Sydney Baldwin",
          "Kaleigh Fratkin",
          "Allie Thunstrom",
          "Chelsey Brodt-Rosenthal",
          "Nina Rodgers",
          "Emma Stauber",
          "Christina Putigna",
          "Haylea Schmid",
          "Taylor Turnquist",
          "Winny Brodt-Brown",
          "Lauren Kelly",
          "Lexie Laing",
          "Mary Parker",
          "Jenna Rheault",
          "Paige Capistran",
          "Tori Sullivan",
          "Carlee Turner",
          "Meaghan Rickard",
          "Meghara McManus",
          "Amanda Leveille",
          "Haley Mack",
          "Maddie Rowe",
          "Jonna Curtis",
          "Audra Richards",
          "Meaghan Pezon",
          "Sara Bustad",
          "Lynn Astrup",
          "Brooke White",
          "Lovisa Selander",
          "Rose Alleva",
          "Kayla Friesen",
          "Tori Howran",
          "Shannon Doyle",
          "Nicole Guagliardo",
          "Alyson Matteau",
          "Erin Gehen",
          "Jordan Juron",
          "Abbie Ives",
          "Marie-Jo Pelletier",
          "Janine Weber",
          "Carly Jackson",
          "Whitney Dove",
          "Emma Vlasic",
          "Dominique Kremer",
          "Katelynn Russ",
          "Alyssa Wohlfeiler",
          "Autumn MacDougall",
          "Maggie LaGue",
          "Elena Orlando",
          "Brooke Stacey",
          "Kayla Meneghin",
          "Hunter Accursi",
          "Taylor Marchin",
          "Grace Klienbach",
          "Megan Delay",
          "Sarah Schwenzfeier",
          "Kaycie Anderson",
          "Maddie Bishop",
          "Amanda Conway",
          "Iveta Klimasova",
          "Mackenzie Lancaster",
          "Neve Van Pelt",
          "Kristin Lewicki",
          "Hanna Beattie",
          "Brittany Colton",
          "Cassidy MacPherson",
          "Lenka Curmova",
          "Shiann Darkangelo",
          "Emma Greco",
          "Sonjia Shelly",
          "Sammy Kolowrat",
          "Kiira Dosdall",
          "Madison Packer",
          "Emma Woods",
          "Emily Janiga",
          "Sarah Steele",
          "Megan Quinn",
          "Kelly Babstock",
          "Jayne Lewis",
          "Leila Kilduff",
          "Breanne Wilson-Bennett",
          "Lindsay Eastwood",
          "Kendall Cornine",
          "Paige Voight",
          "Rebecca Morse",
          "Natalie Marcuzzi",
          "Taylor Woods",
          "Mallory Rushton",
          "Theresa Knutson",
          "Allie Olnowich",
          "Kristen Barbara",
          "Elaine Chuli",
          "Taytum Clairmont",
          "Julie Allen",
          "Rebecca Russo",
          "Kate Leary",
          "Emily Fluke",
          "Mikyla Grant-Mentis",
          "Sarah-Eve Coutu Godbout",
          "Saroya Tinker",
          "Amy Curlew",
          "Brooke Avery",
          "Mackenzie MacNeil",
          "Brooke Boquist",
          "Cailey Hutchison",
          "Victoria Hanson",
          "Brooke Wolejko",
          "Tera Hofmann",
          "Samantha Ridgewell",
          "Briana Mastel",
          "Laurel Hill",
          "Taylor Wasylk",
          "Lisa Chesson",
          "Caty Flagg",
          "Rachael Ade",
          "Maeve Reilly",
          "Sarah Hughson",
          "Mariah Fujimagari"
         ],
         "xaxis": "x",
         "y": [
          2,
          0,
          -3,
          3,
          3,
          0,
          4,
          0,
          -1,
          -5,
          0,
          -2,
          -2,
          -3,
          1,
          -1,
          -1,
          -2,
          -2,
          1,
          1,
          -1,
          -1,
          7,
          1,
          1,
          3,
          1,
          0,
          0,
          2,
          2,
          1,
          0,
          0,
          0,
          0,
          -1,
          -2,
          1,
          3,
          -2,
          2,
          -1,
          1,
          0,
          0,
          0,
          0,
          -3,
          0,
          -1,
          -2,
          -2,
          4,
          1,
          -1,
          1,
          -3,
          -1,
          1,
          0,
          0,
          0,
          -2,
          0,
          0,
          -2,
          0,
          0,
          1,
          0,
          0,
          0,
          -3,
          -5,
          -1,
          0,
          0,
          0,
          0,
          3,
          1,
          -1,
          -1,
          -3,
          0,
          0,
          8,
          -2,
          0,
          0,
          -3,
          2,
          -3,
          0,
          2,
          0,
          -1,
          0,
          1,
          -2,
          0,
          2,
          1,
          -3,
          1,
          0,
          2,
          0,
          1,
          0,
          1,
          0,
          0,
          0,
          0,
          0,
          -1,
          -3,
          -2,
          0,
          0,
          0,
          0,
          0
         ],
         "yaxis": "y"
        }
       ],
       "layout": {
        "barmode": "stack",
        "legend": {
         "tracegroupgap": 0
        },
        "margin": {
         "t": 60
        },
        "template": {
         "data": {
          "bar": [
           {
            "error_x": {
             "color": "#2a3f5f"
            },
            "error_y": {
             "color": "#2a3f5f"
            },
            "marker": {
             "line": {
              "color": "#E5ECF6",
              "width": 0.5
             }
            },
            "type": "bar"
           }
          ],
          "barpolar": [
           {
            "marker": {
             "line": {
              "color": "#E5ECF6",
              "width": 0.5
             }
            },
            "type": "barpolar"
           }
          ],
          "carpet": [
           {
            "aaxis": {
             "endlinecolor": "#2a3f5f",
             "gridcolor": "white",
             "linecolor": "white",
             "minorgridcolor": "white",
             "startlinecolor": "#2a3f5f"
            },
            "baxis": {
             "endlinecolor": "#2a3f5f",
             "gridcolor": "white",
             "linecolor": "white",
             "minorgridcolor": "white",
             "startlinecolor": "#2a3f5f"
            },
            "type": "carpet"
           }
          ],
          "choropleth": [
           {
            "colorbar": {
             "outlinewidth": 0,
             "ticks": ""
            },
            "type": "choropleth"
           }
          ],
          "contour": [
           {
            "colorbar": {
             "outlinewidth": 0,
             "ticks": ""
            },
            "colorscale": [
             [
              0,
              "#0d0887"
             ],
             [
              0.1111111111111111,
              "#46039f"
             ],
             [
              0.2222222222222222,
              "#7201a8"
             ],
             [
              0.3333333333333333,
              "#9c179e"
             ],
             [
              0.4444444444444444,
              "#bd3786"
             ],
             [
              0.5555555555555556,
              "#d8576b"
             ],
             [
              0.6666666666666666,
              "#ed7953"
             ],
             [
              0.7777777777777778,
              "#fb9f3a"
             ],
             [
              0.8888888888888888,
              "#fdca26"
             ],
             [
              1,
              "#f0f921"
             ]
            ],
            "type": "contour"
           }
          ],
          "contourcarpet": [
           {
            "colorbar": {
             "outlinewidth": 0,
             "ticks": ""
            },
            "type": "contourcarpet"
           }
          ],
          "heatmap": [
           {
            "colorbar": {
             "outlinewidth": 0,
             "ticks": ""
            },
            "colorscale": [
             [
              0,
              "#0d0887"
             ],
             [
              0.1111111111111111,
              "#46039f"
             ],
             [
              0.2222222222222222,
              "#7201a8"
             ],
             [
              0.3333333333333333,
              "#9c179e"
             ],
             [
              0.4444444444444444,
              "#bd3786"
             ],
             [
              0.5555555555555556,
              "#d8576b"
             ],
             [
              0.6666666666666666,
              "#ed7953"
             ],
             [
              0.7777777777777778,
              "#fb9f3a"
             ],
             [
              0.8888888888888888,
              "#fdca26"
             ],
             [
              1,
              "#f0f921"
             ]
            ],
            "type": "heatmap"
           }
          ],
          "heatmapgl": [
           {
            "colorbar": {
             "outlinewidth": 0,
             "ticks": ""
            },
            "colorscale": [
             [
              0,
              "#0d0887"
             ],
             [
              0.1111111111111111,
              "#46039f"
             ],
             [
              0.2222222222222222,
              "#7201a8"
             ],
             [
              0.3333333333333333,
              "#9c179e"
             ],
             [
              0.4444444444444444,
              "#bd3786"
             ],
             [
              0.5555555555555556,
              "#d8576b"
             ],
             [
              0.6666666666666666,
              "#ed7953"
             ],
             [
              0.7777777777777778,
              "#fb9f3a"
             ],
             [
              0.8888888888888888,
              "#fdca26"
             ],
             [
              1,
              "#f0f921"
             ]
            ],
            "type": "heatmapgl"
           }
          ],
          "histogram": [
           {
            "marker": {
             "colorbar": {
              "outlinewidth": 0,
              "ticks": ""
             }
            },
            "type": "histogram"
           }
          ],
          "histogram2d": [
           {
            "colorbar": {
             "outlinewidth": 0,
             "ticks": ""
            },
            "colorscale": [
             [
              0,
              "#0d0887"
             ],
             [
              0.1111111111111111,
              "#46039f"
             ],
             [
              0.2222222222222222,
              "#7201a8"
             ],
             [
              0.3333333333333333,
              "#9c179e"
             ],
             [
              0.4444444444444444,
              "#bd3786"
             ],
             [
              0.5555555555555556,
              "#d8576b"
             ],
             [
              0.6666666666666666,
              "#ed7953"
             ],
             [
              0.7777777777777778,
              "#fb9f3a"
             ],
             [
              0.8888888888888888,
              "#fdca26"
             ],
             [
              1,
              "#f0f921"
             ]
            ],
            "type": "histogram2d"
           }
          ],
          "histogram2dcontour": [
           {
            "colorbar": {
             "outlinewidth": 0,
             "ticks": ""
            },
            "colorscale": [
             [
              0,
              "#0d0887"
             ],
             [
              0.1111111111111111,
              "#46039f"
             ],
             [
              0.2222222222222222,
              "#7201a8"
             ],
             [
              0.3333333333333333,
              "#9c179e"
             ],
             [
              0.4444444444444444,
              "#bd3786"
             ],
             [
              0.5555555555555556,
              "#d8576b"
             ],
             [
              0.6666666666666666,
              "#ed7953"
             ],
             [
              0.7777777777777778,
              "#fb9f3a"
             ],
             [
              0.8888888888888888,
              "#fdca26"
             ],
             [
              1,
              "#f0f921"
             ]
            ],
            "type": "histogram2dcontour"
           }
          ],
          "mesh3d": [
           {
            "colorbar": {
             "outlinewidth": 0,
             "ticks": ""
            },
            "type": "mesh3d"
           }
          ],
          "parcoords": [
           {
            "line": {
             "colorbar": {
              "outlinewidth": 0,
              "ticks": ""
             }
            },
            "type": "parcoords"
           }
          ],
          "pie": [
           {
            "automargin": true,
            "type": "pie"
           }
          ],
          "scatter": [
           {
            "marker": {
             "colorbar": {
              "outlinewidth": 0,
              "ticks": ""
             }
            },
            "type": "scatter"
           }
          ],
          "scatter3d": [
           {
            "line": {
             "colorbar": {
              "outlinewidth": 0,
              "ticks": ""
             }
            },
            "marker": {
             "colorbar": {
              "outlinewidth": 0,
              "ticks": ""
             }
            },
            "type": "scatter3d"
           }
          ],
          "scattercarpet": [
           {
            "marker": {
             "colorbar": {
              "outlinewidth": 0,
              "ticks": ""
             }
            },
            "type": "scattercarpet"
           }
          ],
          "scattergeo": [
           {
            "marker": {
             "colorbar": {
              "outlinewidth": 0,
              "ticks": ""
             }
            },
            "type": "scattergeo"
           }
          ],
          "scattergl": [
           {
            "marker": {
             "colorbar": {
              "outlinewidth": 0,
              "ticks": ""
             }
            },
            "type": "scattergl"
           }
          ],
          "scattermapbox": [
           {
            "marker": {
             "colorbar": {
              "outlinewidth": 0,
              "ticks": ""
             }
            },
            "type": "scattermapbox"
           }
          ],
          "scatterpolar": [
           {
            "marker": {
             "colorbar": {
              "outlinewidth": 0,
              "ticks": ""
             }
            },
            "type": "scatterpolar"
           }
          ],
          "scatterpolargl": [
           {
            "marker": {
             "colorbar": {
              "outlinewidth": 0,
              "ticks": ""
             }
            },
            "type": "scatterpolargl"
           }
          ],
          "scatterternary": [
           {
            "marker": {
             "colorbar": {
              "outlinewidth": 0,
              "ticks": ""
             }
            },
            "type": "scatterternary"
           }
          ],
          "surface": [
           {
            "colorbar": {
             "outlinewidth": 0,
             "ticks": ""
            },
            "colorscale": [
             [
              0,
              "#0d0887"
             ],
             [
              0.1111111111111111,
              "#46039f"
             ],
             [
              0.2222222222222222,
              "#7201a8"
             ],
             [
              0.3333333333333333,
              "#9c179e"
             ],
             [
              0.4444444444444444,
              "#bd3786"
             ],
             [
              0.5555555555555556,
              "#d8576b"
             ],
             [
              0.6666666666666666,
              "#ed7953"
             ],
             [
              0.7777777777777778,
              "#fb9f3a"
             ],
             [
              0.8888888888888888,
              "#fdca26"
             ],
             [
              1,
              "#f0f921"
             ]
            ],
            "type": "surface"
           }
          ],
          "table": [
           {
            "cells": {
             "fill": {
              "color": "#EBF0F8"
             },
             "line": {
              "color": "white"
             }
            },
            "header": {
             "fill": {
              "color": "#C8D4E3"
             },
             "line": {
              "color": "white"
             }
            },
            "type": "table"
           }
          ]
         },
         "layout": {
          "annotationdefaults": {
           "arrowcolor": "#2a3f5f",
           "arrowhead": 0,
           "arrowwidth": 1
          },
          "autotypenumbers": "strict",
          "coloraxis": {
           "colorbar": {
            "outlinewidth": 0,
            "ticks": ""
           }
          },
          "colorscale": {
           "diverging": [
            [
             0,
             "#8e0152"
            ],
            [
             0.1,
             "#c51b7d"
            ],
            [
             0.2,
             "#de77ae"
            ],
            [
             0.3,
             "#f1b6da"
            ],
            [
             0.4,
             "#fde0ef"
            ],
            [
             0.5,
             "#f7f7f7"
            ],
            [
             0.6,
             "#e6f5d0"
            ],
            [
             0.7,
             "#b8e186"
            ],
            [
             0.8,
             "#7fbc41"
            ],
            [
             0.9,
             "#4d9221"
            ],
            [
             1,
             "#276419"
            ]
           ],
           "sequential": [
            [
             0,
             "#0d0887"
            ],
            [
             0.1111111111111111,
             "#46039f"
            ],
            [
             0.2222222222222222,
             "#7201a8"
            ],
            [
             0.3333333333333333,
             "#9c179e"
            ],
            [
             0.4444444444444444,
             "#bd3786"
            ],
            [
             0.5555555555555556,
             "#d8576b"
            ],
            [
             0.6666666666666666,
             "#ed7953"
            ],
            [
             0.7777777777777778,
             "#fb9f3a"
            ],
            [
             0.8888888888888888,
             "#fdca26"
            ],
            [
             1,
             "#f0f921"
            ]
           ],
           "sequentialminus": [
            [
             0,
             "#0d0887"
            ],
            [
             0.1111111111111111,
             "#46039f"
            ],
            [
             0.2222222222222222,
             "#7201a8"
            ],
            [
             0.3333333333333333,
             "#9c179e"
            ],
            [
             0.4444444444444444,
             "#bd3786"
            ],
            [
             0.5555555555555556,
             "#d8576b"
            ],
            [
             0.6666666666666666,
             "#ed7953"
            ],
            [
             0.7777777777777778,
             "#fb9f3a"
            ],
            [
             0.8888888888888888,
             "#fdca26"
            ],
            [
             1,
             "#f0f921"
            ]
           ]
          },
          "colorway": [
           "#636efa",
           "#EF553B",
           "#00cc96",
           "#ab63fa",
           "#FFA15A",
           "#19d3f3",
           "#FF6692",
           "#B6E880",
           "#FF97FF",
           "#FECB52"
          ],
          "font": {
           "color": "#2a3f5f"
          },
          "geo": {
           "bgcolor": "white",
           "lakecolor": "white",
           "landcolor": "#E5ECF6",
           "showlakes": true,
           "showland": true,
           "subunitcolor": "white"
          },
          "hoverlabel": {
           "align": "left"
          },
          "hovermode": "closest",
          "mapbox": {
           "style": "light"
          },
          "paper_bgcolor": "white",
          "plot_bgcolor": "#E5ECF6",
          "polar": {
           "angularaxis": {
            "gridcolor": "white",
            "linecolor": "white",
            "ticks": ""
           },
           "bgcolor": "#E5ECF6",
           "radialaxis": {
            "gridcolor": "white",
            "linecolor": "white",
            "ticks": ""
           }
          },
          "scene": {
           "xaxis": {
            "backgroundcolor": "#E5ECF6",
            "gridcolor": "white",
            "gridwidth": 2,
            "linecolor": "white",
            "showbackground": true,
            "ticks": "",
            "zerolinecolor": "white"
           },
           "yaxis": {
            "backgroundcolor": "#E5ECF6",
            "gridcolor": "white",
            "gridwidth": 2,
            "linecolor": "white",
            "showbackground": true,
            "ticks": "",
            "zerolinecolor": "white"
           },
           "zaxis": {
            "backgroundcolor": "#E5ECF6",
            "gridcolor": "white",
            "gridwidth": 2,
            "linecolor": "white",
            "showbackground": true,
            "ticks": "",
            "zerolinecolor": "white"
           }
          },
          "shapedefaults": {
           "line": {
            "color": "#2a3f5f"
           }
          },
          "ternary": {
           "aaxis": {
            "gridcolor": "white",
            "linecolor": "white",
            "ticks": ""
           },
           "baxis": {
            "gridcolor": "white",
            "linecolor": "white",
            "ticks": ""
           },
           "bgcolor": "#E5ECF6",
           "caxis": {
            "gridcolor": "white",
            "linecolor": "white",
            "ticks": ""
           }
          },
          "title": {
           "x": 0.05
          },
          "xaxis": {
           "automargin": true,
           "gridcolor": "white",
           "linecolor": "white",
           "ticks": "",
           "title": {
            "standoff": 15
           },
           "zerolinecolor": "white",
           "zerolinewidth": 2
          },
          "yaxis": {
           "automargin": true,
           "gridcolor": "white",
           "linecolor": "white",
           "ticks": "",
           "title": {
            "standoff": 15
           },
           "zerolinecolor": "white",
           "zerolinewidth": 2
          }
         }
        },
        "xaxis": {
         "anchor": "y",
         "categoryorder": "total descending",
         "domain": [
          0,
          1
         ],
         "title": {
          "text": "Name"
         }
        },
        "yaxis": {
         "anchor": "x",
         "domain": [
          0,
          1
         ],
         "title": {
          "text": "PenDiff"
         }
        }
       }
      },
      "text/html": [
       "<div>                            <div id=\"cbff545b-0e4c-4f9d-92cd-ff001fbc4fba\" class=\"plotly-graph-div\" style=\"height:525px; width:100%;\"></div>            <script type=\"text/javascript\">                require([\"plotly\"], function(Plotly) {                    window.PLOTLYENV=window.PLOTLYENV || {};                                    if (document.getElementById(\"cbff545b-0e4c-4f9d-92cd-ff001fbc4fba\")) {                    Plotly.newPlot(                        \"cbff545b-0e4c-4f9d-92cd-ff001fbc4fba\",                        [{\"alignmentgroup\": \"True\", \"hovertemplate\": \"Name=%{x}<br>PenDiff=%{y}<extra></extra>\", \"legendgroup\": \"\", \"marker\": {\"color\": \"#636efa\"}, \"name\": \"\", \"offsetgroup\": \"\", \"orientation\": \"v\", \"showlegend\": false, \"textposition\": \"auto\", \"type\": \"bar\", \"x\": [\"Jillian Dempsey\", \"McKenna Brand\", \"Tereza Vanisova\", \"Samantha Davis\", \"Stephanie Anderson\", \"Meghan Lorence\", \"Mallory Souliotis\", \"Taylor Wenczkowski\", \"Sydney Baldwin\", \"Kaleigh Fratkin\", \"Allie Thunstrom\", \"Chelsey Brodt-Rosenthal\", \"Nina Rodgers\", \"Emma Stauber\", \"Christina Putigna\", \"Haylea Schmid\", \"Taylor Turnquist\", \"Winny Brodt-Brown\", \"Lauren Kelly\", \"Lexie Laing\", \"Mary Parker\", \"Jenna Rheault\", \"Paige Capistran\", \"Tori Sullivan\", \"Carlee Turner\", \"Meaghan Rickard\", \"Meghara McManus\", \"Amanda Leveille\", \"Haley Mack\", \"Maddie Rowe\", \"Jonna Curtis\", \"Audra Richards\", \"Meaghan Pezon\", \"Sara Bustad\", \"Lynn Astrup\", \"Brooke White\", \"Lovisa Selander\", \"Rose Alleva\", \"Kayla Friesen\", \"Tori Howran\", \"Shannon Doyle\", \"Nicole Guagliardo\", \"Alyson Matteau\", \"Erin Gehen\", \"Jordan Juron\", \"Abbie Ives\", \"Marie-Jo Pelletier\", \"Janine Weber\", \"Carly Jackson\", \"Whitney Dove\", \"Emma Vlasic\", \"Dominique Kremer\", \"Katelynn Russ\", \"Alyssa Wohlfeiler\", \"Autumn MacDougall\", \"Maggie LaGue\", \"Elena Orlando\", \"Brooke Stacey\", \"Kayla Meneghin\", \"Hunter Accursi\", \"Taylor Marchin\", \"Grace Klienbach\", \"Megan Delay\", \"Sarah Schwenzfeier\", \"Kaycie Anderson\", \"Maddie Bishop\", \"Amanda Conway\", \"Iveta Klimasova\", \"Mackenzie Lancaster\", \"Neve Van Pelt\", \"Kristin Lewicki\", \"Hanna Beattie\", \"Brittany Colton\", \"Cassidy MacPherson\", \"Lenka Curmova\", \"Shiann Darkangelo\", \"Emma Greco\", \"Sonjia Shelly\", \"Sammy Kolowrat\", \"Kiira Dosdall\", \"Madison Packer\", \"Emma Woods\", \"Emily Janiga\", \"Sarah Steele\", \"Megan Quinn\", \"Kelly Babstock\", \"Jayne Lewis\", \"Leila Kilduff\", \"Breanne Wilson-Bennett\", \"Lindsay Eastwood\", \"Kendall Cornine\", \"Paige Voight\", \"Rebecca Morse\", \"Natalie Marcuzzi\", \"Taylor Woods\", \"Mallory Rushton\", \"Theresa Knutson\", \"Allie Olnowich\", \"Kristen Barbara\", \"Elaine Chuli\", \"Taytum Clairmont\", \"Julie Allen\", \"Rebecca Russo\", \"Kate Leary\", \"Emily Fluke\", \"Mikyla Grant-Mentis\", \"Sarah-Eve Coutu Godbout\", \"Saroya Tinker\", \"Amy Curlew\", \"Brooke Avery\", \"Mackenzie MacNeil\", \"Brooke Boquist\", \"Cailey Hutchison\", \"Victoria Hanson\", \"Brooke Wolejko\", \"Tera Hofmann\", \"Samantha Ridgewell\", \"Briana Mastel\", \"Laurel Hill\", \"Taylor Wasylk\", \"Lisa Chesson\", \"Caty Flagg\", \"Rachael Ade\", \"Maeve Reilly\", \"Sarah Hughson\", \"Mariah Fujimagari\"], \"xaxis\": \"x\", \"y\": [2, 0, -3, 3, 3, 0, 4, 0, -1, -5, 0, -2, -2, -3, 1, -1, -1, -2, -2, 1, 1, -1, -1, 7, 1, 1, 3, 1, 0, 0, 2, 2, 1, 0, 0, 0, 0, -1, -2, 1, 3, -2, 2, -1, 1, 0, 0, 0, 0, -3, 0, -1, -2, -2, 4, 1, -1, 1, -3, -1, 1, 0, 0, 0, -2, 0, 0, -2, 0, 0, 1, 0, 0, 0, -3, -5, -1, 0, 0, 0, 0, 3, 1, -1, -1, -3, 0, 0, 8, -2, 0, 0, -3, 2, -3, 0, 2, 0, -1, 0, 1, -2, 0, 2, 1, -3, 1, 0, 2, 0, 1, 0, 1, 0, 0, 0, 0, 0, -1, -3, -2, 0, 0, 0, 0, 0], \"yaxis\": \"y\"}],                        {\"barmode\": \"stack\", \"legend\": {\"tracegroupgap\": 0}, \"margin\": {\"t\": 60}, \"template\": {\"data\": {\"bar\": [{\"error_x\": {\"color\": \"#2a3f5f\"}, \"error_y\": {\"color\": \"#2a3f5f\"}, \"marker\": {\"line\": {\"color\": \"#E5ECF6\", \"width\": 0.5}}, \"type\": \"bar\"}], \"barpolar\": [{\"marker\": {\"line\": {\"color\": \"#E5ECF6\", \"width\": 0.5}}, \"type\": \"barpolar\"}], \"carpet\": [{\"aaxis\": {\"endlinecolor\": \"#2a3f5f\", \"gridcolor\": \"white\", \"linecolor\": \"white\", \"minorgridcolor\": \"white\", \"startlinecolor\": \"#2a3f5f\"}, \"baxis\": {\"endlinecolor\": \"#2a3f5f\", \"gridcolor\": \"white\", \"linecolor\": \"white\", \"minorgridcolor\": \"white\", \"startlinecolor\": \"#2a3f5f\"}, \"type\": \"carpet\"}], \"choropleth\": [{\"colorbar\": {\"outlinewidth\": 0, \"ticks\": \"\"}, \"type\": \"choropleth\"}], \"contour\": [{\"colorbar\": {\"outlinewidth\": 0, \"ticks\": \"\"}, \"colorscale\": [[0.0, \"#0d0887\"], [0.1111111111111111, \"#46039f\"], [0.2222222222222222, \"#7201a8\"], [0.3333333333333333, \"#9c179e\"], [0.4444444444444444, \"#bd3786\"], [0.5555555555555556, \"#d8576b\"], [0.6666666666666666, \"#ed7953\"], [0.7777777777777778, \"#fb9f3a\"], [0.8888888888888888, \"#fdca26\"], [1.0, \"#f0f921\"]], \"type\": \"contour\"}], \"contourcarpet\": [{\"colorbar\": {\"outlinewidth\": 0, \"ticks\": \"\"}, \"type\": \"contourcarpet\"}], \"heatmap\": [{\"colorbar\": {\"outlinewidth\": 0, \"ticks\": \"\"}, \"colorscale\": [[0.0, \"#0d0887\"], [0.1111111111111111, \"#46039f\"], [0.2222222222222222, \"#7201a8\"], [0.3333333333333333, \"#9c179e\"], [0.4444444444444444, \"#bd3786\"], [0.5555555555555556, \"#d8576b\"], [0.6666666666666666, \"#ed7953\"], [0.7777777777777778, \"#fb9f3a\"], [0.8888888888888888, \"#fdca26\"], [1.0, \"#f0f921\"]], \"type\": \"heatmap\"}], \"heatmapgl\": [{\"colorbar\": {\"outlinewidth\": 0, \"ticks\": \"\"}, \"colorscale\": [[0.0, \"#0d0887\"], [0.1111111111111111, \"#46039f\"], [0.2222222222222222, \"#7201a8\"], [0.3333333333333333, \"#9c179e\"], [0.4444444444444444, \"#bd3786\"], [0.5555555555555556, \"#d8576b\"], [0.6666666666666666, \"#ed7953\"], [0.7777777777777778, \"#fb9f3a\"], [0.8888888888888888, \"#fdca26\"], [1.0, \"#f0f921\"]], \"type\": \"heatmapgl\"}], \"histogram\": [{\"marker\": {\"colorbar\": {\"outlinewidth\": 0, \"ticks\": \"\"}}, \"type\": \"histogram\"}], \"histogram2d\": [{\"colorbar\": {\"outlinewidth\": 0, \"ticks\": \"\"}, \"colorscale\": [[0.0, \"#0d0887\"], [0.1111111111111111, \"#46039f\"], [0.2222222222222222, \"#7201a8\"], [0.3333333333333333, \"#9c179e\"], [0.4444444444444444, \"#bd3786\"], [0.5555555555555556, \"#d8576b\"], [0.6666666666666666, \"#ed7953\"], [0.7777777777777778, \"#fb9f3a\"], [0.8888888888888888, \"#fdca26\"], [1.0, \"#f0f921\"]], \"type\": \"histogram2d\"}], \"histogram2dcontour\": [{\"colorbar\": {\"outlinewidth\": 0, \"ticks\": \"\"}, \"colorscale\": [[0.0, \"#0d0887\"], [0.1111111111111111, \"#46039f\"], [0.2222222222222222, \"#7201a8\"], [0.3333333333333333, \"#9c179e\"], [0.4444444444444444, \"#bd3786\"], [0.5555555555555556, \"#d8576b\"], [0.6666666666666666, \"#ed7953\"], [0.7777777777777778, \"#fb9f3a\"], [0.8888888888888888, \"#fdca26\"], [1.0, \"#f0f921\"]], \"type\": \"histogram2dcontour\"}], \"mesh3d\": [{\"colorbar\": {\"outlinewidth\": 0, \"ticks\": \"\"}, \"type\": \"mesh3d\"}], \"parcoords\": [{\"line\": {\"colorbar\": {\"outlinewidth\": 0, \"ticks\": \"\"}}, \"type\": \"parcoords\"}], \"pie\": [{\"automargin\": true, \"type\": \"pie\"}], \"scatter\": [{\"marker\": {\"colorbar\": {\"outlinewidth\": 0, \"ticks\": \"\"}}, \"type\": \"scatter\"}], \"scatter3d\": [{\"line\": {\"colorbar\": {\"outlinewidth\": 0, \"ticks\": \"\"}}, \"marker\": {\"colorbar\": {\"outlinewidth\": 0, \"ticks\": \"\"}}, \"type\": \"scatter3d\"}], \"scattercarpet\": [{\"marker\": {\"colorbar\": {\"outlinewidth\": 0, \"ticks\": \"\"}}, \"type\": \"scattercarpet\"}], \"scattergeo\": [{\"marker\": {\"colorbar\": {\"outlinewidth\": 0, \"ticks\": \"\"}}, \"type\": \"scattergeo\"}], \"scattergl\": [{\"marker\": {\"colorbar\": {\"outlinewidth\": 0, \"ticks\": \"\"}}, \"type\": \"scattergl\"}], \"scattermapbox\": [{\"marker\": {\"colorbar\": {\"outlinewidth\": 0, \"ticks\": \"\"}}, \"type\": \"scattermapbox\"}], \"scatterpolar\": [{\"marker\": {\"colorbar\": {\"outlinewidth\": 0, \"ticks\": \"\"}}, \"type\": \"scatterpolar\"}], \"scatterpolargl\": [{\"marker\": {\"colorbar\": {\"outlinewidth\": 0, \"ticks\": \"\"}}, \"type\": \"scatterpolargl\"}], \"scatterternary\": [{\"marker\": {\"colorbar\": {\"outlinewidth\": 0, \"ticks\": \"\"}}, \"type\": \"scatterternary\"}], \"surface\": [{\"colorbar\": {\"outlinewidth\": 0, \"ticks\": \"\"}, \"colorscale\": [[0.0, \"#0d0887\"], [0.1111111111111111, \"#46039f\"], [0.2222222222222222, \"#7201a8\"], [0.3333333333333333, \"#9c179e\"], [0.4444444444444444, \"#bd3786\"], [0.5555555555555556, \"#d8576b\"], [0.6666666666666666, \"#ed7953\"], [0.7777777777777778, \"#fb9f3a\"], [0.8888888888888888, \"#fdca26\"], [1.0, \"#f0f921\"]], \"type\": \"surface\"}], \"table\": [{\"cells\": {\"fill\": {\"color\": \"#EBF0F8\"}, \"line\": {\"color\": \"white\"}}, \"header\": {\"fill\": {\"color\": \"#C8D4E3\"}, \"line\": {\"color\": \"white\"}}, \"type\": \"table\"}]}, \"layout\": {\"annotationdefaults\": {\"arrowcolor\": \"#2a3f5f\", \"arrowhead\": 0, \"arrowwidth\": 1}, \"autotypenumbers\": \"strict\", \"coloraxis\": {\"colorbar\": {\"outlinewidth\": 0, \"ticks\": \"\"}}, \"colorscale\": {\"diverging\": [[0, \"#8e0152\"], [0.1, \"#c51b7d\"], [0.2, \"#de77ae\"], [0.3, \"#f1b6da\"], [0.4, \"#fde0ef\"], [0.5, \"#f7f7f7\"], [0.6, \"#e6f5d0\"], [0.7, \"#b8e186\"], [0.8, \"#7fbc41\"], [0.9, \"#4d9221\"], [1, \"#276419\"]], \"sequential\": [[0.0, \"#0d0887\"], [0.1111111111111111, \"#46039f\"], [0.2222222222222222, \"#7201a8\"], [0.3333333333333333, \"#9c179e\"], [0.4444444444444444, \"#bd3786\"], [0.5555555555555556, \"#d8576b\"], [0.6666666666666666, \"#ed7953\"], [0.7777777777777778, \"#fb9f3a\"], [0.8888888888888888, \"#fdca26\"], [1.0, \"#f0f921\"]], \"sequentialminus\": [[0.0, \"#0d0887\"], [0.1111111111111111, \"#46039f\"], [0.2222222222222222, \"#7201a8\"], [0.3333333333333333, \"#9c179e\"], [0.4444444444444444, \"#bd3786\"], [0.5555555555555556, \"#d8576b\"], [0.6666666666666666, \"#ed7953\"], [0.7777777777777778, \"#fb9f3a\"], [0.8888888888888888, \"#fdca26\"], [1.0, \"#f0f921\"]]}, \"colorway\": [\"#636efa\", \"#EF553B\", \"#00cc96\", \"#ab63fa\", \"#FFA15A\", \"#19d3f3\", \"#FF6692\", \"#B6E880\", \"#FF97FF\", \"#FECB52\"], \"font\": {\"color\": \"#2a3f5f\"}, \"geo\": {\"bgcolor\": \"white\", \"lakecolor\": \"white\", \"landcolor\": \"#E5ECF6\", \"showlakes\": true, \"showland\": true, \"subunitcolor\": \"white\"}, \"hoverlabel\": {\"align\": \"left\"}, \"hovermode\": \"closest\", \"mapbox\": {\"style\": \"light\"}, \"paper_bgcolor\": \"white\", \"plot_bgcolor\": \"#E5ECF6\", \"polar\": {\"angularaxis\": {\"gridcolor\": \"white\", \"linecolor\": \"white\", \"ticks\": \"\"}, \"bgcolor\": \"#E5ECF6\", \"radialaxis\": {\"gridcolor\": \"white\", \"linecolor\": \"white\", \"ticks\": \"\"}}, \"scene\": {\"xaxis\": {\"backgroundcolor\": \"#E5ECF6\", \"gridcolor\": \"white\", \"gridwidth\": 2, \"linecolor\": \"white\", \"showbackground\": true, \"ticks\": \"\", \"zerolinecolor\": \"white\"}, \"yaxis\": {\"backgroundcolor\": \"#E5ECF6\", \"gridcolor\": \"white\", \"gridwidth\": 2, \"linecolor\": \"white\", \"showbackground\": true, \"ticks\": \"\", \"zerolinecolor\": \"white\"}, \"zaxis\": {\"backgroundcolor\": \"#E5ECF6\", \"gridcolor\": \"white\", \"gridwidth\": 2, \"linecolor\": \"white\", \"showbackground\": true, \"ticks\": \"\", \"zerolinecolor\": \"white\"}}, \"shapedefaults\": {\"line\": {\"color\": \"#2a3f5f\"}}, \"ternary\": {\"aaxis\": {\"gridcolor\": \"white\", \"linecolor\": \"white\", \"ticks\": \"\"}, \"baxis\": {\"gridcolor\": \"white\", \"linecolor\": \"white\", \"ticks\": \"\"}, \"bgcolor\": \"#E5ECF6\", \"caxis\": {\"gridcolor\": \"white\", \"linecolor\": \"white\", \"ticks\": \"\"}}, \"title\": {\"x\": 0.05}, \"xaxis\": {\"automargin\": true, \"gridcolor\": \"white\", \"linecolor\": \"white\", \"ticks\": \"\", \"title\": {\"standoff\": 15}, \"zerolinecolor\": \"white\", \"zerolinewidth\": 2}, \"yaxis\": {\"automargin\": true, \"gridcolor\": \"white\", \"linecolor\": \"white\", \"ticks\": \"\", \"title\": {\"standoff\": 15}, \"zerolinecolor\": \"white\", \"zerolinewidth\": 2}}}, \"xaxis\": {\"anchor\": \"y\", \"categoryorder\": \"total descending\", \"domain\": [0.0, 1.0], \"title\": {\"text\": \"Name\"}}, \"yaxis\": {\"anchor\": \"x\", \"domain\": [0.0, 1.0], \"title\": {\"text\": \"PenDiff\"}}},                        {\"responsive\": true}                    ).then(function(){\n",
       "                            \n",
       "var gd = document.getElementById('cbff545b-0e4c-4f9d-92cd-ff001fbc4fba');\n",
       "var x = new MutationObserver(function (mutations, observer) {{\n",
       "        var display = window.getComputedStyle(gd).display;\n",
       "        if (!display || display === 'none') {{\n",
       "            console.log([gd, 'removed!']);\n",
       "            Plotly.purge(gd);\n",
       "            observer.disconnect();\n",
       "        }}\n",
       "}});\n",
       "\n",
       "// Listen for the removal of the full notebook cells\n",
       "var notebookContainer = gd.closest('#notebook-container');\n",
       "if (notebookContainer) {{\n",
       "    x.observe(notebookContainer, {childList: true});\n",
       "}}\n",
       "\n",
       "// Listen for the clearing of the current output cell\n",
       "var outputEl = gd.closest('.output');\n",
       "if (outputEl) {{\n",
       "    x.observe(outputEl, {childList: true});\n",
       "}}\n",
       "\n",
       "                        })                };                });            </script>        </div>"
      ]
     },
     "metadata": {},
     "output_type": "display_data"
    }
   ],
   "source": [
    "fig = px.bar(pdiff_df, x='Name', y='PenDiff')\n",
    "fig.update_layout(barmode='stack', xaxis={'categoryorder':'total descending'})\n",
    "fig.show()"
   ]
  },
  {
   "cell_type": "markdown",
   "metadata": {},
   "source": [
    "_Extremes observed with Breanne Wilson-Bennett and Kaleigh Fratkin_"
   ]
  },
  {
   "cell_type": "code",
   "execution_count": null,
   "metadata": {},
   "outputs": [],
   "source": []
  }
 ],
 "metadata": {
  "kernelspec": {
   "display_name": "Python 3",
   "language": "python",
   "name": "python3"
  },
  "language_info": {
   "codemirror_mode": {
    "name": "ipython",
    "version": 3
   },
   "file_extension": ".py",
   "mimetype": "text/x-python",
   "name": "python",
   "nbconvert_exporter": "python",
   "pygments_lexer": "ipython3",
   "version": "3.8.3"
  }
 },
 "nbformat": 4,
 "nbformat_minor": 4
}
